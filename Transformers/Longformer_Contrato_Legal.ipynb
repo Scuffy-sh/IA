{
 "cells": [
  {
   "cell_type": "markdown",
   "id": "c90e83ca",
   "metadata": {},
   "source": [
    "--Google Colab--"
   ]
  },
  {
   "cell_type": "code",
   "execution_count": null,
   "id": "wYEWD5sOMMHZ",
   "metadata": {
    "colab": {
     "base_uri": "https://localhost:8080/"
    },
    "executionInfo": {
     "elapsed": 13488,
     "status": "ok",
     "timestamp": 1758876576685,
     "user": {
      "displayName": "Alex",
      "userId": "01537446484942724560"
     },
     "user_tz": -120
    },
    "id": "wYEWD5sOMMHZ",
    "outputId": "c99519bd-489c-4b48-b9fc-a2ca64fb3f60"
   },
   "outputs": [],
   "source": [
    "!pip install evaluate"
   ]
  },
  {
   "cell_type": "markdown",
   "id": "1d91ec32",
   "metadata": {
    "id": "1d91ec32"
   },
   "source": [
    "--Contrato legal--\n",
    "\n",
    "Objetivo: detectar si un contrato contiene una cláusula de terminación anticipada.\n",
    "\n",
    "Dataset simulado: documentos largos tipo contratos (puedes generar texto largo o usar un dataset legal).\n",
    "\n",
    "Modelo: allenai/longformer-base-4096\n",
    "\n",
    "Tokenización: se mantiene secuencia completa hasta 4.096 tokens.\n",
    "\n",
    "Tarea: clasificación binaria → “contiene cláusula de terminación anticipada” sí/no.\n",
    "\n",
    "Ventaja: el modelo ve todo el contrato de una vez, sin cortar cláusulas, y la atención global permite que referencias dispersas se unan."
   ]
  },
  {
   "cell_type": "markdown",
   "id": "LsgVENRIMrAE",
   "metadata": {
    "id": "LsgVENRIMrAE"
   },
   "source": [
    "--Vinculación con Drive--"
   ]
  },
  {
   "cell_type": "code",
   "execution_count": null,
   "id": "HjuSZYKaMl9O",
   "metadata": {
    "colab": {
     "base_uri": "https://localhost:8080/"
    },
    "executionInfo": {
     "elapsed": 1737,
     "status": "ok",
     "timestamp": 1758876578431,
     "user": {
      "displayName": "Alex",
      "userId": "01537446484942724560"
     },
     "user_tz": -120
    },
    "id": "HjuSZYKaMl9O",
    "outputId": "7c776d22-3d12-4a65-9bef-99f03019fa2f"
   },
   "outputs": [],
   "source": [
    "from google.colab import drive\n",
    "drive.mount('/content/drive')"
   ]
  },
  {
   "cell_type": "markdown",
   "id": "3qUcfhvQJb10",
   "metadata": {
    "id": "3qUcfhvQJb10"
   },
   "source": [
    "--Definiendo la ruta del directorio donde se encontraran el modelo entrenado y resultados--"
   ]
  },
  {
   "cell_type": "code",
   "execution_count": null,
   "id": "CeMRwSiRJmeM",
   "metadata": {
    "executionInfo": {
     "elapsed": 10,
     "status": "ok",
     "timestamp": 1758876578448,
     "user": {
      "displayName": "Alex",
      "userId": "01537446484942724560"
     },
     "user_tz": -120
    },
    "id": "CeMRwSiRJmeM"
   },
   "outputs": [],
   "source": [
    "import os\n",
    "drive_dir = \"/content/drive/MyDrive/Modelos_entrenados_ML_DL/Longformer_Contrato_Legal\"\n",
    "os.makedirs(drive_dir, exist_ok=True)"
   ]
  },
  {
   "cell_type": "markdown",
   "id": "cbb665c7",
   "metadata": {
    "id": "cbb665c7"
   },
   "source": [
    "--Importación de librerias necesarias--"
   ]
  },
  {
   "cell_type": "code",
   "execution_count": null,
   "id": "319c1866",
   "metadata": {
    "executionInfo": {
     "elapsed": 40507,
     "status": "ok",
     "timestamp": 1758876618963,
     "user": {
      "displayName": "Alex",
      "userId": "01537446484942724560"
     },
     "user_tz": -120
    },
    "id": "319c1866"
   },
   "outputs": [],
   "source": [
    "from transformers import AutoTokenizer, AutoModelForSequenceClassification, Trainer, TrainingArguments, pipeline\n",
    "import torch\n",
    "from datasets import Dataset, load_dataset\n",
    "import numpy as np\n",
    "import pandas as pd\n",
    "import random\n",
    "import evaluate\n",
    "import json\n",
    "from torch.nn import CrossEntropyLoss"
   ]
  },
  {
   "cell_type": "markdown",
   "id": "3748262d",
   "metadata": {
    "id": "3748262d"
   },
   "source": [
    "--Dataset CUAD filtrado con palabras clave--"
   ]
  },
  {
   "cell_type": "code",
   "execution_count": null,
   "id": "aNKgxGc8Ik-k",
   "metadata": {
    "colab": {
     "base_uri": "https://localhost:8080/"
    },
    "executionInfo": {
     "elapsed": 13393,
     "status": "ok",
     "timestamp": 1758876632358,
     "user": {
      "displayName": "Alex",
      "userId": "01537446484942724560"
     },
     "user_tz": -120
    },
    "id": "aNKgxGc8Ik-k",
    "outputId": "b7277ddc-fa14-4ad6-aea5-9b4ea7830f46"
   },
   "outputs": [],
   "source": [
    "!git clone  https://github.com/TheAtticusProject/cuad.git\n",
    "!unzip cuad/data.zip"
   ]
  },
  {
   "cell_type": "code",
   "execution_count": null,
   "id": "f24b168d",
   "metadata": {
    "executionInfo": {
     "elapsed": 1651,
     "status": "ok",
     "timestamp": 1758876634016,
     "user": {
      "displayName": "Alex",
      "userId": "01537446484942724560"
     },
     "user_tz": -120
    },
    "id": "f24b168d"
   },
   "outputs": [],
   "source": [
    "keywords = [\"termination\", \"terminate\", \"end of contract\", \"contract end\", \"cancellation\", \"cancel\"]\n",
    "\n",
    "with open(\"/content/CUADv1.json\", \"r\", encoding=\"utf-8\") as f:\n",
    "    cuad_json = json.load(f)\n",
    "\n",
    "examples = []\n",
    "for contract in cuad_json[\"data\"]:\n",
    "    for para in contract[\"paragraphs\"]:\n",
    "        context = para[\"context\"]\n",
    "        for qa in para[\"qas\"]:\n",
    "            if \"termination\" in qa[\"question\"].lower():\n",
    "                examples.append({\n",
    "                    \"text\": context,\n",
    "                    \"label\": 0 if qa[\"is_impossible\"] else 1\n",
    "                })\n",
    "\n",
    "dataset = Dataset.from_list(examples)\n"
   ]
  },
  {
   "cell_type": "markdown",
   "id": "86504ed9",
   "metadata": {
    "id": "86504ed9"
   },
   "source": [
    "--Dividir el Dataset en entrenamiento y validación--"
   ]
  },
  {
   "cell_type": "code",
   "execution_count": null,
   "id": "0e6f6e13",
   "metadata": {
    "executionInfo": {
     "elapsed": 10,
     "status": "ok",
     "timestamp": 1758876634038,
     "user": {
      "displayName": "Alex",
      "userId": "01537446484942724560"
     },
     "user_tz": -120
    },
    "id": "0e6f6e13"
   },
   "outputs": [],
   "source": [
    "split = dataset.train_test_split(test_size=0.2, seed=12)\n",
    "train_dataset = split['train']\n",
    "val_dataset = split['test']"
   ]
  },
  {
   "cell_type": "markdown",
   "id": "08d02681",
   "metadata": {
    "id": "08d02681"
   },
   "source": [
    "--Tokenización--"
   ]
  },
  {
   "cell_type": "code",
   "execution_count": null,
   "id": "09a21a9a",
   "metadata": {
    "colab": {
     "base_uri": "https://localhost:8080/",
     "height": 205,
     "referenced_widgets": [
      "e95a647882ab455bbdbb51f3ac3fee46",
      "6aa2560a02c8497e9c9fcb9667f24c60",
      "02ef627c5fee43738f24ca20cdae11c4",
      "64c13bbbda2545a78a2afffe5327b7cd",
      "7e7f5cae3bcd40db88cb7d1155255095",
      "08af59c67f794834893fca1f6fd56d20",
      "ac15e4aa12e04610a12f792e56a28aa5",
      "659d1eeed27444fc93408fd1649e39e4",
      "0e1ac3bfb1cf4f41bf181a62846d4a59",
      "cd0855c0034f43819371d047f7372c36",
      "be909426e1ec4b71b35712854744e1d8",
      "8f90509d9b564e468984630e069ed21b",
      "ca42143af2f140d5b3bc498ceefbc232",
      "484e560c2ff7484ba656836d62dfef51",
      "1e05e17dd8ff41b2bdc47019d8f8b846",
      "c64452fe172b489f81ca5b2d9d860f99",
      "fbedbc32e10c49109055215dad00ba54",
      "7edca9b0b0c149e2824265011fdaee56",
      "673d904a9233461fbe91e63dcb5a2c79",
      "c45169ee97d2485d8343d40c820c672e",
      "d749c98ae7d841fdb614e01684e455d2",
      "177d066ab0f044c39e43b1d844bccaa0"
     ]
    },
    "executionInfo": {
     "elapsed": 70648,
     "status": "ok",
     "timestamp": 1758876704695,
     "user": {
      "displayName": "Alex",
      "userId": "01537446484942724560"
     },
     "user_tz": -120
    },
    "id": "09a21a9a",
    "outputId": "abecdcb4-a550-4ae0-a80c-d402b667b8df"
   },
   "outputs": [],
   "source": [
    "# Cargar el tokenizador Longformer\n",
    "model_name = \"allenai/longformer-base-4096\"\n",
    "tokenizer = AutoTokenizer.from_pretrained(model_name)\n",
    "\n",
    "# Tokenización\n",
    "def tokenize_function(examples):\n",
    "    return tokenizer(\n",
    "        examples[\"text\"],\n",
    "        padding=\"max_length\",     # Relleno hasta la longitud máxima\n",
    "        truncation=True,          # Truncar si excede la longitud máxima\n",
    "        max_length=2048,          # Longitud máxima para Longformer\n",
    "    )\n",
    "\n",
    "# Tokenizar los conjuntos de datos\n",
    "train_dataset = train_dataset.map(tokenize_function, batched=True)\n",
    "val_dataset = val_dataset.map(tokenize_function, batched=True)"
   ]
  },
  {
   "cell_type": "markdown",
   "id": "456855e3",
   "metadata": {
    "id": "456855e3"
   },
   "source": [
    "--Configuración del modelo--"
   ]
  },
  {
   "cell_type": "code",
   "execution_count": null,
   "id": "fd1d6ff0",
   "metadata": {
    "colab": {
     "base_uri": "https://localhost:8080/"
    },
    "executionInfo": {
     "elapsed": 1173,
     "status": "ok",
     "timestamp": 1758876705876,
     "user": {
      "displayName": "Alex",
      "userId": "01537446484942724560"
     },
     "user_tz": -120
    },
    "id": "fd1d6ff0",
    "outputId": "1e09c6c8-3bc7-4adb-98a4-4aca1e791657"
   },
   "outputs": [],
   "source": [
    "model = AutoModelForSequenceClassification.from_pretrained(\n",
    "    model_name,     # Modelo Longformer preentrenado\n",
    "    num_labels=2    # Número de clases (presente o ausente de cláusula de terminación anticipada)\n",
    ")"
   ]
  },
  {
   "cell_type": "markdown",
   "id": "50baab7a",
   "metadata": {
    "id": "50baab7a"
   },
   "source": [
    "--Calculo de pesos según balance de classes--"
   ]
  },
  {
   "cell_type": "code",
   "execution_count": null,
   "id": "ed01a400",
   "metadata": {
    "executionInfo": {
     "elapsed": 10,
     "status": "ok",
     "timestamp": 1758876705894,
     "user": {
      "displayName": "Alex",
      "userId": "01537446484942724560"
     },
     "user_tz": -120
    },
    "id": "ed01a400"
   },
   "outputs": [],
   "source": [
    "labels = np.array([ex[\"label\"] for ex in examples])\n",
    "class_counts = np.bincount(labels)\n",
    "class_weights = torch.tensor([1.0, class_counts[0] / class_counts[1]]).to(model.device)\n",
    "\n",
    "def weighted_loss(logits, labels):\n",
    "    loss_fct = CrossEntropyLoss(weight=class_weights)\n",
    "    return loss_fct(logits, labels)"
   ]
  },
  {
   "cell_type": "markdown",
   "id": "f56c5ad3",
   "metadata": {
    "id": "f56c5ad3"
   },
   "source": [
    "--Metricas de evaluación--"
   ]
  },
  {
   "cell_type": "code",
   "execution_count": null,
   "id": "8216d9e0",
   "metadata": {
    "executionInfo": {
     "elapsed": 2431,
     "status": "ok",
     "timestamp": 1758876708326,
     "user": {
      "displayName": "Alex",
      "userId": "01537446484942724560"
     },
     "user_tz": -120
    },
    "id": "8216d9e0"
   },
   "outputs": [],
   "source": [
    "accuracy = evaluate.load(\"accuracy\")\n",
    "f1 = evaluate.load(\"f1\")\n",
    "\n",
    "def compute_metrics(eval_pred):\n",
    "    logits, labels = eval_pred\n",
    "    predictions = np.argmax(logits, axis=-1)\n",
    "    acc = accuracy.compute(predictions=predictions, references=labels)\n",
    "    f1_score = f1.compute(predictions=predictions, references=labels, average='macro')\n",
    "    return {\"accuracy\": acc[\"accuracy\"], \"f1\": f1_score[\"f1\"]}"
   ]
  },
  {
   "cell_type": "markdown",
   "id": "8472612c",
   "metadata": {
    "id": "8472612c"
   },
   "source": [
    "--Configuración del entrenamiento--"
   ]
  },
  {
   "cell_type": "code",
   "execution_count": null,
   "id": "bad85805",
   "metadata": {
    "executionInfo": {
     "elapsed": 162,
     "status": "ok",
     "timestamp": 1758876708501,
     "user": {
      "displayName": "Alex",
      "userId": "01537446484942724560"
     },
     "user_tz": -120
    },
    "id": "bad85805"
   },
   "outputs": [],
   "source": [
    "training_args = TrainingArguments(\n",
    "    output_dir=f\"{drive_dir}/results\",       # Directorio para guardar los resultados\n",
    "    num_train_epochs=3,                      # Número de épocas de entrenamiento\n",
    "    per_device_train_batch_size=2,           # Tamaño del batch de entrenamiento\n",
    "    per_device_eval_batch_size=2,            # Tamaño del batch de evaluación\n",
    "    learning_rate=2e-5,                      # Tasa de aprendizaje\n",
    "    eval_strategy=\"epoch\",             # Evaluar al final de cada época\n",
    "    save_strategy=\"epoch\",                   # Guardar el modelo al final de cada época\n",
    "    load_best_model_at_end=True,             # Cargar el mejor modelo al final del entrenamiento\n",
    "    metric_for_best_model=\"f1\",              # Métrica para determinar el mejor modelo\n",
    "    greater_is_better=True,                  # Indica si una métrica mayor es mejor\n",
    "    logging_dir=f\"{drive_dir}/logs\",                    # Directorio para guardar los logs\n",
    "    seed=12,                                 # Semilla para reproducibilidad\n",
    "    fp16=True,                               # Usar precisión mixta (FP16) si es compatible\n",
    "    gradient_accumulation_steps=4,           # Acumulación de gradientes para simular un batch más grande\n",
    "    report_to=\"none\"\n",
    ")"
   ]
  },
  {
   "cell_type": "markdown",
   "id": "38dfb897",
   "metadata": {
    "id": "38dfb897"
   },
   "source": [
    "--Trainer--"
   ]
  },
  {
   "cell_type": "code",
   "execution_count": null,
   "id": "84cb60a2",
   "metadata": {
    "colab": {
     "base_uri": "https://localhost:8080/"
    },
    "executionInfo": {
     "elapsed": 225,
     "status": "ok",
     "timestamp": 1758876708734,
     "user": {
      "displayName": "Alex",
      "userId": "01537446484942724560"
     },
     "user_tz": -120
    },
    "id": "84cb60a2",
    "outputId": "4977800e-95fa-484e-fb1a-299f40bb461e"
   },
   "outputs": [],
   "source": [
    "trainer = Trainer(\n",
    "    model=model,                             # El modelo a entrenar\n",
    "    args=training_args,                      # Los argumentos de entrenamiento\n",
    "    train_dataset=train_dataset,             # El conjunto de datos de entrenamiento\n",
    "    eval_dataset=val_dataset,                # El conjunto de datos de evaluación\n",
    "    tokenizer=tokenizer,                     # El tokenizador\n",
    "    compute_metrics=compute_metrics,         # La función para calcular métricas\n",
    ")"
   ]
  },
  {
   "cell_type": "markdown",
   "id": "b6617086",
   "metadata": {
    "id": "b6617086"
   },
   "source": [
    "--Entrenamiento--"
   ]
  },
  {
   "cell_type": "code",
   "execution_count": null,
   "id": "4ab22ea7",
   "metadata": {
    "colab": {
     "base_uri": "https://localhost:8080/",
     "height": 221
    },
    "executionInfo": {
     "elapsed": 2058710,
     "status": "ok",
     "timestamp": 1758878767445,
     "user": {
      "displayName": "Alex",
      "userId": "01537446484942724560"
     },
     "user_tz": -120
    },
    "id": "4ab22ea7",
    "outputId": "4d345df2-43a2-4c1f-e646-7ac3feefefed"
   },
   "outputs": [],
   "source": [
    "trainer.train()"
   ]
  },
  {
   "cell_type": "markdown",
   "id": "d5ac38fc",
   "metadata": {
    "id": "d5ac38fc"
   },
   "source": [
    "--Guardado del modelo entrenado--"
   ]
  },
  {
   "cell_type": "code",
   "execution_count": null,
   "id": "f83f025c",
   "metadata": {
    "executionInfo": {
     "elapsed": 11225,
     "status": "ok",
     "timestamp": 1758878778668,
     "user": {
      "displayName": "Alex",
      "userId": "01537446484942724560"
     },
     "user_tz": -120
    },
    "id": "f83f025c"
   },
   "outputs": [],
   "source": [
    "trainer.save_model(f\"{drive_dir}/longformer-modelo-contratos\")"
   ]
  },
  {
   "cell_type": "markdown",
   "id": "14907b0e",
   "metadata": {
    "id": "14907b0e"
   },
   "source": [
    "--Inferencia con sliding window (aplicas el modelo ya entrenado a nuevos contratos que no ha visto antes, para predecir si contienen la cláusula.)--"
   ]
  },
  {
   "cell_type": "code",
   "execution_count": null,
   "id": "27535c66",
   "metadata": {
    "executionInfo": {
     "elapsed": 24,
     "status": "ok",
     "timestamp": 1758878778705,
     "user": {
      "displayName": "Alex",
      "userId": "01537446484942724560"
     },
     "user_tz": -120
    },
    "id": "27535c66"
   },
   "outputs": [],
   "source": [
    "def classify_contract(contract_text, classifier, tokenizer, max_length=4096, stride=512):\n",
    "    inputs = tokenizer(\n",
    "        contract_text,\n",
    "        max_length=max_length,\n",
    "        stride=stride,\n",
    "        truncation=True,\n",
    "        return_overflowing_tokens=True,\n",
    "        padding=\"max_length\",\n",
    "        return_tensors=\"pt\"\n",
    "    )\n",
    "    probs = []\n",
    "    for i in range(inputs.input_ids.shape[0]):\n",
    "        chunk_text = tokenizer.decode(inputs.input_ids[i], skip_special_tokens=True)\n",
    "        result = classifier(chunk_text)\n",
    "        probs.append(result[0]['score'] if result[0]['label'] == 'LABEL_1' else 1 - result[0]['score'])\n",
    "    final_score = max(probs)\n",
    "    return \"sí\" if final_score > 0.5 else \"no\""
   ]
  },
  {
   "cell_type": "markdown",
   "id": "53836dd7",
   "metadata": {
    "id": "53836dd7"
   },
   "source": [
    "--Pipeline para inferencia--"
   ]
  },
  {
   "cell_type": "code",
   "execution_count": null,
   "id": "090c9fd7",
   "metadata": {
    "colab": {
     "base_uri": "https://localhost:8080/"
    },
    "executionInfo": {
     "elapsed": 1608,
     "status": "ok",
     "timestamp": 1758878780317,
     "user": {
      "displayName": "Alex",
      "userId": "01537446484942724560"
     },
     "user_tz": -120
    },
    "id": "090c9fd7",
    "outputId": "b399d3a0-96b7-4be9-af55-e18cb947e04f"
   },
   "outputs": [],
   "source": [
    "classifier = pipeline(\n",
    "    \"text-classification\",\n",
    "    model=f\"{drive_dir}/longformer-modelo-contratos\",\n",
    "    tokenizer=tokenizer,\n",
    "    device=0 if torch.cuda.is_available() else -1\n",
    ")"
   ]
  },
  {
   "cell_type": "markdown",
   "id": "d4a70b0e",
   "metadata": {
    "id": "d4a70b0e"
   },
   "source": [
    "--Pruebas con nuevos contratos--"
   ]
  },
  {
   "cell_type": "code",
   "execution_count": null,
   "id": "e2c80cd3",
   "metadata": {
    "colab": {
     "base_uri": "https://localhost:8080/"
    },
    "executionInfo": {
     "elapsed": 602,
     "status": "ok",
     "timestamp": 1758878780921,
     "user": {
      "displayName": "Alex",
      "userId": "01537446484942724560"
     },
     "user_tz": -120
    },
    "id": "e2c80cd3",
    "outputId": "07abbf20-8063-4644-c76e-ce44abf1df10"
   },
   "outputs": [],
   "source": [
    "# Contratos de prueba\n",
    "new_contracts = [\n",
    "    \"El presente contrato podrá ser rescindido en cualquier momento si ambas partes así lo acuerdan.\",\n",
    "    \"Este contrato de compraventa se mantendrá vigente por 5 años sin posibilidad de terminación anticipada.\"\n",
    "]\n",
    "\n",
    "for c in new_contracts:\n",
    "    pred = classify_contract(c, classifier, tokenizer)\n",
    "    print(f\"Contrato: {c[:60]}... \\nPredicción: {pred}\\n\")"
   ]
  }
 ],
 "metadata": {
  "accelerator": "GPU",
  "colab": {
   "gpuType": "T4",
   "provenance": []
  },
  "kernelspec": {
   "display_name": "Python 3",
   "name": "python3"
  },
  "language_info": {
   "codemirror_mode": {
    "name": "ipython",
    "version": 3
   },
   "file_extension": ".py",
   "mimetype": "text/x-python",
   "name": "python",
   "nbconvert_exporter": "python",
   "pygments_lexer": "ipython3",
   "version": "3.10.18"
  },
  "widgets": {
   "application/vnd.jupyter.widget-state+json": {
    "02ef627c5fee43738f24ca20cdae11c4": {
     "model_module": "@jupyter-widgets/controls",
     "model_module_version": "1.5.0",
     "model_name": "FloatProgressModel",
     "state": {
      "_dom_classes": [],
      "_model_module": "@jupyter-widgets/controls",
      "_model_module_version": "1.5.0",
      "_model_name": "FloatProgressModel",
      "_view_count": null,
      "_view_module": "@jupyter-widgets/controls",
      "_view_module_version": "1.5.0",
      "_view_name": "ProgressView",
      "bar_style": "success",
      "description": "",
      "description_tooltip": null,
      "layout": "IPY_MODEL_659d1eeed27444fc93408fd1649e39e4",
      "max": 1224,
      "min": 0,
      "orientation": "horizontal",
      "style": "IPY_MODEL_0e1ac3bfb1cf4f41bf181a62846d4a59",
      "value": 1224
     }
    },
    "08af59c67f794834893fca1f6fd56d20": {
     "model_module": "@jupyter-widgets/base",
     "model_module_version": "1.2.0",
     "model_name": "LayoutModel",
     "state": {
      "_model_module": "@jupyter-widgets/base",
      "_model_module_version": "1.2.0",
      "_model_name": "LayoutModel",
      "_view_count": null,
      "_view_module": "@jupyter-widgets/base",
      "_view_module_version": "1.2.0",
      "_view_name": "LayoutView",
      "align_content": null,
      "align_items": null,
      "align_self": null,
      "border": null,
      "bottom": null,
      "display": null,
      "flex": null,
      "flex_flow": null,
      "grid_area": null,
      "grid_auto_columns": null,
      "grid_auto_flow": null,
      "grid_auto_rows": null,
      "grid_column": null,
      "grid_gap": null,
      "grid_row": null,
      "grid_template_areas": null,
      "grid_template_columns": null,
      "grid_template_rows": null,
      "height": null,
      "justify_content": null,
      "justify_items": null,
      "left": null,
      "margin": null,
      "max_height": null,
      "max_width": null,
      "min_height": null,
      "min_width": null,
      "object_fit": null,
      "object_position": null,
      "order": null,
      "overflow": null,
      "overflow_x": null,
      "overflow_y": null,
      "padding": null,
      "right": null,
      "top": null,
      "visibility": null,
      "width": null
     }
    },
    "0e1ac3bfb1cf4f41bf181a62846d4a59": {
     "model_module": "@jupyter-widgets/controls",
     "model_module_version": "1.5.0",
     "model_name": "ProgressStyleModel",
     "state": {
      "_model_module": "@jupyter-widgets/controls",
      "_model_module_version": "1.5.0",
      "_model_name": "ProgressStyleModel",
      "_view_count": null,
      "_view_module": "@jupyter-widgets/base",
      "_view_module_version": "1.2.0",
      "_view_name": "StyleView",
      "bar_color": null,
      "description_width": ""
     }
    },
    "177d066ab0f044c39e43b1d844bccaa0": {
     "model_module": "@jupyter-widgets/controls",
     "model_module_version": "1.5.0",
     "model_name": "DescriptionStyleModel",
     "state": {
      "_model_module": "@jupyter-widgets/controls",
      "_model_module_version": "1.5.0",
      "_model_name": "DescriptionStyleModel",
      "_view_count": null,
      "_view_module": "@jupyter-widgets/base",
      "_view_module_version": "1.2.0",
      "_view_name": "StyleView",
      "description_width": ""
     }
    },
    "1e05e17dd8ff41b2bdc47019d8f8b846": {
     "model_module": "@jupyter-widgets/controls",
     "model_module_version": "1.5.0",
     "model_name": "HTMLModel",
     "state": {
      "_dom_classes": [],
      "_model_module": "@jupyter-widgets/controls",
      "_model_module_version": "1.5.0",
      "_model_name": "HTMLModel",
      "_view_count": null,
      "_view_module": "@jupyter-widgets/controls",
      "_view_module_version": "1.5.0",
      "_view_name": "HTMLView",
      "description": "",
      "description_tooltip": null,
      "layout": "IPY_MODEL_d749c98ae7d841fdb614e01684e455d2",
      "placeholder": "​",
      "style": "IPY_MODEL_177d066ab0f044c39e43b1d844bccaa0",
      "value": " 306/306 [00:09&lt;00:00, 31.39 examples/s]"
     }
    },
    "484e560c2ff7484ba656836d62dfef51": {
     "model_module": "@jupyter-widgets/controls",
     "model_module_version": "1.5.0",
     "model_name": "FloatProgressModel",
     "state": {
      "_dom_classes": [],
      "_model_module": "@jupyter-widgets/controls",
      "_model_module_version": "1.5.0",
      "_model_name": "FloatProgressModel",
      "_view_count": null,
      "_view_module": "@jupyter-widgets/controls",
      "_view_module_version": "1.5.0",
      "_view_name": "ProgressView",
      "bar_style": "success",
      "description": "",
      "description_tooltip": null,
      "layout": "IPY_MODEL_673d904a9233461fbe91e63dcb5a2c79",
      "max": 306,
      "min": 0,
      "orientation": "horizontal",
      "style": "IPY_MODEL_c45169ee97d2485d8343d40c820c672e",
      "value": 306
     }
    },
    "64c13bbbda2545a78a2afffe5327b7cd": {
     "model_module": "@jupyter-widgets/controls",
     "model_module_version": "1.5.0",
     "model_name": "HTMLModel",
     "state": {
      "_dom_classes": [],
      "_model_module": "@jupyter-widgets/controls",
      "_model_module_version": "1.5.0",
      "_model_name": "HTMLModel",
      "_view_count": null,
      "_view_module": "@jupyter-widgets/controls",
      "_view_module_version": "1.5.0",
      "_view_name": "HTMLView",
      "description": "",
      "description_tooltip": null,
      "layout": "IPY_MODEL_cd0855c0034f43819371d047f7372c36",
      "placeholder": "​",
      "style": "IPY_MODEL_be909426e1ec4b71b35712854744e1d8",
      "value": " 1224/1224 [00:58&lt;00:00, 21.45 examples/s]"
     }
    },
    "659d1eeed27444fc93408fd1649e39e4": {
     "model_module": "@jupyter-widgets/base",
     "model_module_version": "1.2.0",
     "model_name": "LayoutModel",
     "state": {
      "_model_module": "@jupyter-widgets/base",
      "_model_module_version": "1.2.0",
      "_model_name": "LayoutModel",
      "_view_count": null,
      "_view_module": "@jupyter-widgets/base",
      "_view_module_version": "1.2.0",
      "_view_name": "LayoutView",
      "align_content": null,
      "align_items": null,
      "align_self": null,
      "border": null,
      "bottom": null,
      "display": null,
      "flex": null,
      "flex_flow": null,
      "grid_area": null,
      "grid_auto_columns": null,
      "grid_auto_flow": null,
      "grid_auto_rows": null,
      "grid_column": null,
      "grid_gap": null,
      "grid_row": null,
      "grid_template_areas": null,
      "grid_template_columns": null,
      "grid_template_rows": null,
      "height": null,
      "justify_content": null,
      "justify_items": null,
      "left": null,
      "margin": null,
      "max_height": null,
      "max_width": null,
      "min_height": null,
      "min_width": null,
      "object_fit": null,
      "object_position": null,
      "order": null,
      "overflow": null,
      "overflow_x": null,
      "overflow_y": null,
      "padding": null,
      "right": null,
      "top": null,
      "visibility": null,
      "width": null
     }
    },
    "673d904a9233461fbe91e63dcb5a2c79": {
     "model_module": "@jupyter-widgets/base",
     "model_module_version": "1.2.0",
     "model_name": "LayoutModel",
     "state": {
      "_model_module": "@jupyter-widgets/base",
      "_model_module_version": "1.2.0",
      "_model_name": "LayoutModel",
      "_view_count": null,
      "_view_module": "@jupyter-widgets/base",
      "_view_module_version": "1.2.0",
      "_view_name": "LayoutView",
      "align_content": null,
      "align_items": null,
      "align_self": null,
      "border": null,
      "bottom": null,
      "display": null,
      "flex": null,
      "flex_flow": null,
      "grid_area": null,
      "grid_auto_columns": null,
      "grid_auto_flow": null,
      "grid_auto_rows": null,
      "grid_column": null,
      "grid_gap": null,
      "grid_row": null,
      "grid_template_areas": null,
      "grid_template_columns": null,
      "grid_template_rows": null,
      "height": null,
      "justify_content": null,
      "justify_items": null,
      "left": null,
      "margin": null,
      "max_height": null,
      "max_width": null,
      "min_height": null,
      "min_width": null,
      "object_fit": null,
      "object_position": null,
      "order": null,
      "overflow": null,
      "overflow_x": null,
      "overflow_y": null,
      "padding": null,
      "right": null,
      "top": null,
      "visibility": null,
      "width": null
     }
    },
    "6aa2560a02c8497e9c9fcb9667f24c60": {
     "model_module": "@jupyter-widgets/controls",
     "model_module_version": "1.5.0",
     "model_name": "HTMLModel",
     "state": {
      "_dom_classes": [],
      "_model_module": "@jupyter-widgets/controls",
      "_model_module_version": "1.5.0",
      "_model_name": "HTMLModel",
      "_view_count": null,
      "_view_module": "@jupyter-widgets/controls",
      "_view_module_version": "1.5.0",
      "_view_name": "HTMLView",
      "description": "",
      "description_tooltip": null,
      "layout": "IPY_MODEL_08af59c67f794834893fca1f6fd56d20",
      "placeholder": "​",
      "style": "IPY_MODEL_ac15e4aa12e04610a12f792e56a28aa5",
      "value": "Map: 100%"
     }
    },
    "7e7f5cae3bcd40db88cb7d1155255095": {
     "model_module": "@jupyter-widgets/base",
     "model_module_version": "1.2.0",
     "model_name": "LayoutModel",
     "state": {
      "_model_module": "@jupyter-widgets/base",
      "_model_module_version": "1.2.0",
      "_model_name": "LayoutModel",
      "_view_count": null,
      "_view_module": "@jupyter-widgets/base",
      "_view_module_version": "1.2.0",
      "_view_name": "LayoutView",
      "align_content": null,
      "align_items": null,
      "align_self": null,
      "border": null,
      "bottom": null,
      "display": null,
      "flex": null,
      "flex_flow": null,
      "grid_area": null,
      "grid_auto_columns": null,
      "grid_auto_flow": null,
      "grid_auto_rows": null,
      "grid_column": null,
      "grid_gap": null,
      "grid_row": null,
      "grid_template_areas": null,
      "grid_template_columns": null,
      "grid_template_rows": null,
      "height": null,
      "justify_content": null,
      "justify_items": null,
      "left": null,
      "margin": null,
      "max_height": null,
      "max_width": null,
      "min_height": null,
      "min_width": null,
      "object_fit": null,
      "object_position": null,
      "order": null,
      "overflow": null,
      "overflow_x": null,
      "overflow_y": null,
      "padding": null,
      "right": null,
      "top": null,
      "visibility": null,
      "width": null
     }
    },
    "7edca9b0b0c149e2824265011fdaee56": {
     "model_module": "@jupyter-widgets/controls",
     "model_module_version": "1.5.0",
     "model_name": "DescriptionStyleModel",
     "state": {
      "_model_module": "@jupyter-widgets/controls",
      "_model_module_version": "1.5.0",
      "_model_name": "DescriptionStyleModel",
      "_view_count": null,
      "_view_module": "@jupyter-widgets/base",
      "_view_module_version": "1.2.0",
      "_view_name": "StyleView",
      "description_width": ""
     }
    },
    "8f90509d9b564e468984630e069ed21b": {
     "model_module": "@jupyter-widgets/controls",
     "model_module_version": "1.5.0",
     "model_name": "HBoxModel",
     "state": {
      "_dom_classes": [],
      "_model_module": "@jupyter-widgets/controls",
      "_model_module_version": "1.5.0",
      "_model_name": "HBoxModel",
      "_view_count": null,
      "_view_module": "@jupyter-widgets/controls",
      "_view_module_version": "1.5.0",
      "_view_name": "HBoxView",
      "box_style": "",
      "children": [
       "IPY_MODEL_ca42143af2f140d5b3bc498ceefbc232",
       "IPY_MODEL_484e560c2ff7484ba656836d62dfef51",
       "IPY_MODEL_1e05e17dd8ff41b2bdc47019d8f8b846"
      ],
      "layout": "IPY_MODEL_c64452fe172b489f81ca5b2d9d860f99"
     }
    },
    "ac15e4aa12e04610a12f792e56a28aa5": {
     "model_module": "@jupyter-widgets/controls",
     "model_module_version": "1.5.0",
     "model_name": "DescriptionStyleModel",
     "state": {
      "_model_module": "@jupyter-widgets/controls",
      "_model_module_version": "1.5.0",
      "_model_name": "DescriptionStyleModel",
      "_view_count": null,
      "_view_module": "@jupyter-widgets/base",
      "_view_module_version": "1.2.0",
      "_view_name": "StyleView",
      "description_width": ""
     }
    },
    "be909426e1ec4b71b35712854744e1d8": {
     "model_module": "@jupyter-widgets/controls",
     "model_module_version": "1.5.0",
     "model_name": "DescriptionStyleModel",
     "state": {
      "_model_module": "@jupyter-widgets/controls",
      "_model_module_version": "1.5.0",
      "_model_name": "DescriptionStyleModel",
      "_view_count": null,
      "_view_module": "@jupyter-widgets/base",
      "_view_module_version": "1.2.0",
      "_view_name": "StyleView",
      "description_width": ""
     }
    },
    "c45169ee97d2485d8343d40c820c672e": {
     "model_module": "@jupyter-widgets/controls",
     "model_module_version": "1.5.0",
     "model_name": "ProgressStyleModel",
     "state": {
      "_model_module": "@jupyter-widgets/controls",
      "_model_module_version": "1.5.0",
      "_model_name": "ProgressStyleModel",
      "_view_count": null,
      "_view_module": "@jupyter-widgets/base",
      "_view_module_version": "1.2.0",
      "_view_name": "StyleView",
      "bar_color": null,
      "description_width": ""
     }
    },
    "c64452fe172b489f81ca5b2d9d860f99": {
     "model_module": "@jupyter-widgets/base",
     "model_module_version": "1.2.0",
     "model_name": "LayoutModel",
     "state": {
      "_model_module": "@jupyter-widgets/base",
      "_model_module_version": "1.2.0",
      "_model_name": "LayoutModel",
      "_view_count": null,
      "_view_module": "@jupyter-widgets/base",
      "_view_module_version": "1.2.0",
      "_view_name": "LayoutView",
      "align_content": null,
      "align_items": null,
      "align_self": null,
      "border": null,
      "bottom": null,
      "display": null,
      "flex": null,
      "flex_flow": null,
      "grid_area": null,
      "grid_auto_columns": null,
      "grid_auto_flow": null,
      "grid_auto_rows": null,
      "grid_column": null,
      "grid_gap": null,
      "grid_row": null,
      "grid_template_areas": null,
      "grid_template_columns": null,
      "grid_template_rows": null,
      "height": null,
      "justify_content": null,
      "justify_items": null,
      "left": null,
      "margin": null,
      "max_height": null,
      "max_width": null,
      "min_height": null,
      "min_width": null,
      "object_fit": null,
      "object_position": null,
      "order": null,
      "overflow": null,
      "overflow_x": null,
      "overflow_y": null,
      "padding": null,
      "right": null,
      "top": null,
      "visibility": null,
      "width": null
     }
    },
    "ca42143af2f140d5b3bc498ceefbc232": {
     "model_module": "@jupyter-widgets/controls",
     "model_module_version": "1.5.0",
     "model_name": "HTMLModel",
     "state": {
      "_dom_classes": [],
      "_model_module": "@jupyter-widgets/controls",
      "_model_module_version": "1.5.0",
      "_model_name": "HTMLModel",
      "_view_count": null,
      "_view_module": "@jupyter-widgets/controls",
      "_view_module_version": "1.5.0",
      "_view_name": "HTMLView",
      "description": "",
      "description_tooltip": null,
      "layout": "IPY_MODEL_fbedbc32e10c49109055215dad00ba54",
      "placeholder": "​",
      "style": "IPY_MODEL_7edca9b0b0c149e2824265011fdaee56",
      "value": "Map: 100%"
     }
    },
    "cd0855c0034f43819371d047f7372c36": {
     "model_module": "@jupyter-widgets/base",
     "model_module_version": "1.2.0",
     "model_name": "LayoutModel",
     "state": {
      "_model_module": "@jupyter-widgets/base",
      "_model_module_version": "1.2.0",
      "_model_name": "LayoutModel",
      "_view_count": null,
      "_view_module": "@jupyter-widgets/base",
      "_view_module_version": "1.2.0",
      "_view_name": "LayoutView",
      "align_content": null,
      "align_items": null,
      "align_self": null,
      "border": null,
      "bottom": null,
      "display": null,
      "flex": null,
      "flex_flow": null,
      "grid_area": null,
      "grid_auto_columns": null,
      "grid_auto_flow": null,
      "grid_auto_rows": null,
      "grid_column": null,
      "grid_gap": null,
      "grid_row": null,
      "grid_template_areas": null,
      "grid_template_columns": null,
      "grid_template_rows": null,
      "height": null,
      "justify_content": null,
      "justify_items": null,
      "left": null,
      "margin": null,
      "max_height": null,
      "max_width": null,
      "min_height": null,
      "min_width": null,
      "object_fit": null,
      "object_position": null,
      "order": null,
      "overflow": null,
      "overflow_x": null,
      "overflow_y": null,
      "padding": null,
      "right": null,
      "top": null,
      "visibility": null,
      "width": null
     }
    },
    "d749c98ae7d841fdb614e01684e455d2": {
     "model_module": "@jupyter-widgets/base",
     "model_module_version": "1.2.0",
     "model_name": "LayoutModel",
     "state": {
      "_model_module": "@jupyter-widgets/base",
      "_model_module_version": "1.2.0",
      "_model_name": "LayoutModel",
      "_view_count": null,
      "_view_module": "@jupyter-widgets/base",
      "_view_module_version": "1.2.0",
      "_view_name": "LayoutView",
      "align_content": null,
      "align_items": null,
      "align_self": null,
      "border": null,
      "bottom": null,
      "display": null,
      "flex": null,
      "flex_flow": null,
      "grid_area": null,
      "grid_auto_columns": null,
      "grid_auto_flow": null,
      "grid_auto_rows": null,
      "grid_column": null,
      "grid_gap": null,
      "grid_row": null,
      "grid_template_areas": null,
      "grid_template_columns": null,
      "grid_template_rows": null,
      "height": null,
      "justify_content": null,
      "justify_items": null,
      "left": null,
      "margin": null,
      "max_height": null,
      "max_width": null,
      "min_height": null,
      "min_width": null,
      "object_fit": null,
      "object_position": null,
      "order": null,
      "overflow": null,
      "overflow_x": null,
      "overflow_y": null,
      "padding": null,
      "right": null,
      "top": null,
      "visibility": null,
      "width": null
     }
    },
    "e95a647882ab455bbdbb51f3ac3fee46": {
     "model_module": "@jupyter-widgets/controls",
     "model_module_version": "1.5.0",
     "model_name": "HBoxModel",
     "state": {
      "_dom_classes": [],
      "_model_module": "@jupyter-widgets/controls",
      "_model_module_version": "1.5.0",
      "_model_name": "HBoxModel",
      "_view_count": null,
      "_view_module": "@jupyter-widgets/controls",
      "_view_module_version": "1.5.0",
      "_view_name": "HBoxView",
      "box_style": "",
      "children": [
       "IPY_MODEL_6aa2560a02c8497e9c9fcb9667f24c60",
       "IPY_MODEL_02ef627c5fee43738f24ca20cdae11c4",
       "IPY_MODEL_64c13bbbda2545a78a2afffe5327b7cd"
      ],
      "layout": "IPY_MODEL_7e7f5cae3bcd40db88cb7d1155255095"
     }
    },
    "fbedbc32e10c49109055215dad00ba54": {
     "model_module": "@jupyter-widgets/base",
     "model_module_version": "1.2.0",
     "model_name": "LayoutModel",
     "state": {
      "_model_module": "@jupyter-widgets/base",
      "_model_module_version": "1.2.0",
      "_model_name": "LayoutModel",
      "_view_count": null,
      "_view_module": "@jupyter-widgets/base",
      "_view_module_version": "1.2.0",
      "_view_name": "LayoutView",
      "align_content": null,
      "align_items": null,
      "align_self": null,
      "border": null,
      "bottom": null,
      "display": null,
      "flex": null,
      "flex_flow": null,
      "grid_area": null,
      "grid_auto_columns": null,
      "grid_auto_flow": null,
      "grid_auto_rows": null,
      "grid_column": null,
      "grid_gap": null,
      "grid_row": null,
      "grid_template_areas": null,
      "grid_template_columns": null,
      "grid_template_rows": null,
      "height": null,
      "justify_content": null,
      "justify_items": null,
      "left": null,
      "margin": null,
      "max_height": null,
      "max_width": null,
      "min_height": null,
      "min_width": null,
      "object_fit": null,
      "object_position": null,
      "order": null,
      "overflow": null,
      "overflow_x": null,
      "overflow_y": null,
      "padding": null,
      "right": null,
      "top": null,
      "visibility": null,
      "width": null
     }
    }
   }
  }
 },
 "nbformat": 4,
 "nbformat_minor": 5
}
