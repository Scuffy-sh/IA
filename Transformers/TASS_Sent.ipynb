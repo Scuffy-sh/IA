{
 "cells": [
  {
   "cell_type": "markdown",
   "id": "a128c3a2",
   "metadata": {},
   "source": [
    "--Comprobar entorno (hf_env)--"
   ]
  },
  {
   "cell_type": "code",
   "execution_count": 1,
   "id": "14a49418",
   "metadata": {},
   "outputs": [
    {
     "name": "stdout",
     "output_type": "stream",
     "text": [
      "c:\\Users\\Pasi\\miniconda3\\envs\\hf_env\\python.exe\n"
     ]
    },
    {
     "name": "stderr",
     "output_type": "stream",
     "text": [
      "c:\\Users\\Pasi\\miniconda3\\envs\\hf_env\\lib\\site-packages\\tqdm\\auto.py:21: TqdmWarning: IProgress not found. Please update jupyter and ipywidgets. See https://ipywidgets.readthedocs.io/en/stable/user_install.html\n",
      "  from .autonotebook import tqdm as notebook_tqdm\n"
     ]
    },
    {
     "name": "stdout",
     "output_type": "stream",
     "text": [
      "Torch: 2.8.0+cpu\n",
      "Transformers: 4.56.1\n",
      "Datasets: 4.1.0\n"
     ]
    }
   ],
   "source": [
    "import sys\n",
    "print(sys.executable)\n",
    "import torch, transformers, datasets\n",
    "print(\"Torch:\", torch.__version__)\n",
    "print(\"Transformers:\", transformers.__version__)\n",
    "print(\"Datasets:\", datasets.__version__)"
   ]
  },
  {
   "cell_type": "markdown",
   "id": "c7a2683e",
   "metadata": {},
   "source": [
    "-- Fijar una semilla para la reproducibilidad--"
   ]
  },
  {
   "cell_type": "code",
   "execution_count": 2,
   "id": "be4067f7",
   "metadata": {},
   "outputs": [],
   "source": [
    "import random\n",
    "import numpy as np\n",
    "import torch\n",
    "\n",
    "# Función para fijar la semilla en todas las librerías relevantes\n",
    "def set_seed(seed):\n",
    "    random.seed(seed)\n",
    "    np.random.seed(seed)\n",
    "    torch.manual_seed(seed)\n",
    "    if torch.cuda.is_available():\n",
    "        torch.cuda.manual_seed_all(seed)\n",
    "        \n",
    "set_seed(12)  # Fijar una semilla para la reproducibilidad"
   ]
  },
  {
   "cell_type": "markdown",
   "id": "9e7a0e7a",
   "metadata": {},
   "source": [
    "--Cargar el dataset (TASS 2020)--"
   ]
  },
  {
   "cell_type": "code",
   "execution_count": 3,
   "id": "1615e8f1",
   "metadata": {},
   "outputs": [
    {
     "name": "stdout",
     "output_type": "stream",
     "text": [
      "Columnas del dataset: ['titulo', 'id_noticia', 'target', 'label']\n"
     ]
    }
   ],
   "source": [
    "from datasets import load_dataset\n",
    "\n",
    "# Cargamos el dataset\n",
    "dataset = load_dataset(\"pysentimiento/spanish-targeted-sentiment-headlines\")\n",
    "\n",
    "print(f\"Columnas del dataset: {dataset['train'].column_names}\")"
   ]
  },
  {
   "cell_type": "markdown",
   "id": "be2c98bf",
   "metadata": {},
   "source": [
    "--Tokenizador y modelo base--"
   ]
  },
  {
   "cell_type": "code",
   "execution_count": 4,
   "id": "aca7b00b",
   "metadata": {},
   "outputs": [],
   "source": [
    "from transformers import AutoTokenizer, AutoModelForSequenceClassification\n",
    "\n",
    "# Definimos el modelo a utilizar preentrenado en Hugging Face (RoBERTuito)\n",
    "model_name = \"pysentimiento/robertuito-sentiment-analysis\"\n",
    "\n",
    "# Cargamos el tokenizador y el modelo\n",
    "tokenizer = AutoTokenizer.from_pretrained(model_name)"
   ]
  },
  {
   "cell_type": "markdown",
   "id": "b7a59f14",
   "metadata": {},
   "source": [
    "--Tokenización--"
   ]
  },
  {
   "cell_type": "code",
   "execution_count": 10,
   "id": "7445f283",
   "metadata": {},
   "outputs": [
    {
     "name": "stderr",
     "output_type": "stream",
     "text": [
      "Map: 100%|██████████| 1371/1371 [00:00<00:00, 9816.84 examples/s] \n",
      "Map: 100%|██████████| 609/609 [00:00<00:00, 8846.63 examples/s]\n",
      "Map: 100%|██████████| 459/459 [00:00<00:00, 7983.75 examples/s]\n"
     ]
    }
   ],
   "source": [
    "# Función de tokenización\n",
    "def tokenize_function(examples):\n",
    "    # Tokenizamos los textos con padding y truncamiento\n",
    "    return tokenizer(examples[\"titulo\"], padding=\"max_length\", truncation=True, max_length=tokenizer.model_max_length)\n",
    "\n",
    "# Aplicamos la tokenización al conjunto de datos\n",
    "tokenized_datasets = dataset.map(tokenize_function, batched=True)"
   ]
  },
  {
   "cell_type": "markdown",
   "id": "e38a737b",
   "metadata": {},
   "source": [
    "--Preparación del modelo para la clasificación--"
   ]
  },
  {
   "cell_type": "code",
   "execution_count": 6,
   "id": "c389bac8",
   "metadata": {},
   "outputs": [
    {
     "name": "stdout",
     "output_type": "stream",
     "text": [
      "Número de Etiquetas: 3, Etiquetas: [2, 1, 0]\n"
     ]
    }
   ],
   "source": [
    "# Comprobamos las etiquetas en el conjunto de datos\n",
    "labels = dataset[\"train\"].unique(\"label\")\n",
    "num_labels = len(labels)\n",
    "\n",
    "\n",
    "# Mostramos el número de etiquetas y las etiquetas mismas\n",
    "print(f\"Número de Etiquetas: {num_labels}, Etiquetas: {labels}\")"
   ]
  },
  {
   "cell_type": "code",
   "execution_count": 7,
   "id": "91bcd2cb",
   "metadata": {},
   "outputs": [],
   "source": [
    "# Cargamos el modelo para clasificación de secuencias con el número adecuado de etiquetas\n",
    "model = AutoModelForSequenceClassification.from_pretrained(model_name, num_labels=num_labels)"
   ]
  },
  {
   "cell_type": "markdown",
   "id": "9af0c238",
   "metadata": {},
   "source": [
    "--Configuración del entrenamiento con la ayuda de Trainer--"
   ]
  },
  {
   "cell_type": "code",
   "execution_count": 8,
   "id": "0e0baf16",
   "metadata": {},
   "outputs": [],
   "source": [
    "from transformers import TrainingArguments, Trainer\n",
    "import evaluate\n",
    "\n",
    "\n",
    "accuracy = evaluate.load(\"accuracy\") # Métrica de precisión global\n",
    "f1 = evaluate.load(\"f1\")             # Métrica F1 (media armónica de precisión y recall)\n",
    "precision = evaluate.load(\"precision\") # Métrica de precisión\n",
    "recall = evaluate.load(\"recall\")     # Métrica de Exhaustividad / Sensibilidad\n",
    "\n",
    "# Función para computar las métricas durante la evaluación\n",
    "def compute_metrics(eval_pred):\n",
    "    # Separa las predicciones y las etiquetas verdaderas\n",
    "    logits, labels = eval_pred\n",
    "    # Obtiene las predicciones finales tomando el índice de la clase con mayor logit\n",
    "    predictions = logits.argmax(axis=-1)\n",
    "    # Calcula y devuelve la precisión\n",
    "    return {\n",
    "        \"accuracy\": accuracy.compute(predictions=predictions, references=labels)[\"accuracy\"],\n",
    "        \"f1\": f1.compute(predictions=predictions, references=labels, average=\"macro\")[\"f1\"],\n",
    "        \"precision\": precision.compute(predictions=predictions, references=labels, average=\"weighted\")[\"precision\"],\n",
    "        \"recall\": recall.compute(predictions=predictions, references=labels, average=\"weighted\")[\"recall\"],\n",
    "    }"
   ]
  },
  {
   "cell_type": "code",
   "execution_count": 13,
   "id": "13e6bb27",
   "metadata": {},
   "outputs": [],
   "source": [
    "# Configuración de los argumentos de entrenamiento\n",
    "training_args = TrainingArguments(\n",
    "    output_dir=\"./results\",          # Directorio para guardar los resultados\n",
    "    num_train_epochs=3,              # Número de épocas de entrenamiento \n",
    "    learning_rate=2e-5,              # Tasa de aprendizaje\n",
    "    per_device_train_batch_size=16,  # Tamaño del batch para entrenamiento\n",
    "    per_device_eval_batch_size=16,   # Tamaño del batch para evaluación\n",
    "    weight_decay=0.01,               # Decaimiento del peso\n",
    "    logging_dir=\"./logs\",            # Directorio para los logs\n",
    "    seed=12,                         # Semilla para reproducibilidad\n",
    "    eval_strategy=\"steps\",     # Estrategia de evaluación\n",
    "    eval_steps=100,                  # Evaluar cada 100 pasos\n",
    "    save_strategy=\"steps\",           # Estrategia de guardado\n",
    "    save_steps=100,                  # Guardar el modelo cada 100 pasos\n",
    "    load_best_model_at_end=True,     # Cargar el mejor modelo al final del entrenamiento\n",
    "    metric_for_best_model=\"f1\",      # Métrica para seleccionar el mejor modelo\n",
    "    greater_is_better=True,          # Indica si una métrica mayor es mejor\n",
    ")"
   ]
  },
  {
   "cell_type": "code",
   "execution_count": 14,
   "id": "1b0c1fab",
   "metadata": {},
   "outputs": [
    {
     "name": "stderr",
     "output_type": "stream",
     "text": [
      "C:\\Users\\Pasi\\AppData\\Local\\Temp\\ipykernel_14936\\981696436.py:4: FutureWarning: `tokenizer` is deprecated and will be removed in version 5.0.0 for `Trainer.__init__`. Use `processing_class` instead.\n",
      "  trainer = Trainer(\n"
     ]
    }
   ],
   "source": [
    "from transformers import EarlyStoppingCallback\n",
    "\n",
    "# Crear el entrenador\n",
    "trainer = Trainer(\n",
    "    model=model,                                                  # El modelo a entrenar\n",
    "    args=training_args,                                           # Argumentos de entrenamiento\n",
    "    train_dataset=tokenized_datasets[\"train\"],                    # Conjunto de datos de entrenamiento\n",
    "    eval_dataset=tokenized_datasets[\"test\"],                      # Conjunto de datos de validación\n",
    "    compute_metrics=compute_metrics,                              # Función para computar métricas\n",
    "    tokenizer=tokenizer,                                          # Tokenizador\n",
    "    callbacks=[EarlyStoppingCallback(early_stopping_patience=3)], # Callback para early stopping\n",
    ")"
   ]
  },
  {
   "cell_type": "markdown",
   "id": "253d0abf",
   "metadata": {},
   "source": [
    "--Entrenamiento--"
   ]
  },
  {
   "cell_type": "code",
   "execution_count": 15,
   "id": "a588b4ca",
   "metadata": {},
   "outputs": [
    {
     "name": "stderr",
     "output_type": "stream",
     "text": [
      "c:\\Users\\Pasi\\miniconda3\\envs\\hf_env\\lib\\site-packages\\torch\\utils\\data\\dataloader.py:666: UserWarning: 'pin_memory' argument is set as true but no accelerator is found, then device pinned memory won't be used.\n",
      "  warnings.warn(warn_msg)\n"
     ]
    },
    {
     "data": {
      "text/html": [
       "\n",
       "    <div>\n",
       "      \n",
       "      <progress value='258' max='258' style='width:300px; height:20px; vertical-align: middle;'></progress>\n",
       "      [258/258 19:30, Epoch 3/3]\n",
       "    </div>\n",
       "    <table border=\"1\" class=\"dataframe\">\n",
       "  <thead>\n",
       " <tr style=\"text-align: left;\">\n",
       "      <th>Step</th>\n",
       "      <th>Training Loss</th>\n",
       "      <th>Validation Loss</th>\n",
       "      <th>Accuracy</th>\n",
       "      <th>F1</th>\n",
       "      <th>Precision</th>\n",
       "      <th>Recall</th>\n",
       "    </tr>\n",
       "  </thead>\n",
       "  <tbody>\n",
       "    <tr>\n",
       "      <td>100</td>\n",
       "      <td>No log</td>\n",
       "      <td>0.763048</td>\n",
       "      <td>0.688013</td>\n",
       "      <td>0.684870</td>\n",
       "      <td>0.691104</td>\n",
       "      <td>0.688013</td>\n",
       "    </tr>\n",
       "    <tr>\n",
       "      <td>200</td>\n",
       "      <td>No log</td>\n",
       "      <td>0.755383</td>\n",
       "      <td>0.701149</td>\n",
       "      <td>0.697437</td>\n",
       "      <td>0.702496</td>\n",
       "      <td>0.701149</td>\n",
       "    </tr>\n",
       "  </tbody>\n",
       "</table><p>"
      ],
      "text/plain": [
       "<IPython.core.display.HTML object>"
      ]
     },
     "metadata": {},
     "output_type": "display_data"
    },
    {
     "name": "stderr",
     "output_type": "stream",
     "text": [
      "c:\\Users\\Pasi\\miniconda3\\envs\\hf_env\\lib\\site-packages\\torch\\utils\\data\\dataloader.py:666: UserWarning: 'pin_memory' argument is set as true but no accelerator is found, then device pinned memory won't be used.\n",
      "  warnings.warn(warn_msg)\n"
     ]
    },
    {
     "data": {
      "text/plain": [
       "TrainOutput(global_step=258, training_loss=0.6473154467205668, metrics={'train_runtime': 1178.0589, 'train_samples_per_second': 3.491, 'train_steps_per_second': 0.219, 'total_flos': 270546371778816.0, 'train_loss': 0.6473154467205668, 'epoch': 3.0})"
      ]
     },
     "execution_count": 15,
     "metadata": {},
     "output_type": "execute_result"
    }
   ],
   "source": [
    "# Entrenar el modelo\n",
    "trainer.train()"
   ]
  },
  {
   "cell_type": "markdown",
   "id": "9c53f1ca",
   "metadata": {},
   "source": [
    "--Guardar el modelo fine-tuned--"
   ]
  },
  {
   "cell_type": "code",
   "execution_count": 16,
   "id": "2e73564c",
   "metadata": {},
   "outputs": [
    {
     "data": {
      "text/plain": [
       "('./tass-sentiment-model\\\\tokenizer_config.json',\n",
       " './tass-sentiment-model\\\\special_tokens_map.json',\n",
       " './tass-sentiment-model\\\\tokenizer.json')"
      ]
     },
     "execution_count": 16,
     "metadata": {},
     "output_type": "execute_result"
    }
   ],
   "source": [
    "# Guardar el modelo y el tokenizador entrenados\n",
    "trainer.save_model(\"./tass-sentiment-model\")\n",
    "tokenizer.save_pretrained(\"./tass-sentiment-model\")"
   ]
  },
  {
   "cell_type": "markdown",
   "id": "d7861aba",
   "metadata": {},
   "source": [
    "--Prueba del model fine-tuned--"
   ]
  },
  {
   "cell_type": "code",
   "execution_count": 17,
   "id": "a2fb3353",
   "metadata": {},
   "outputs": [
    {
     "name": "stderr",
     "output_type": "stream",
     "text": [
      "Device set to use cpu\n"
     ]
    },
    {
     "name": "stdout",
     "output_type": "stream",
     "text": [
      "[{'label': 'POS', 'score': 0.9845624566078186}]\n",
      "[{'label': 'NEG', 'score': 0.9460989236831665}]\n",
      "[{'label': 'POS', 'score': 0.9520020484924316}]\n"
     ]
    }
   ],
   "source": [
    "from transformers import pipeline\n",
    "\n",
    "classifier = pipeline(\"text-classification\", model=\"./tass-sentiment-model\", tokenizer=\"./tass-sentiment-model\")\n",
    "\n",
    "print(classifier(\"La película fue fantástica y me encantó cada momento.\"))\n",
    "print(classifier(\"El servicio en el restaurante fue terrible y no volveré.\"))\n",
    "print(classifier(\"No estuvo ni bien ni mal, fue una experiencia promedio.\"))"
   ]
  },
  {
   "cell_type": "markdown",
   "id": "aa713ff2",
   "metadata": {},
   "source": [
    "--Evaluación--"
   ]
  },
  {
   "cell_type": "code",
   "execution_count": 18,
   "id": "bf84a027",
   "metadata": {},
   "outputs": [
    {
     "name": "stderr",
     "output_type": "stream",
     "text": [
      "c:\\Users\\Pasi\\miniconda3\\envs\\hf_env\\lib\\site-packages\\torch\\utils\\data\\dataloader.py:666: UserWarning: 'pin_memory' argument is set as true but no accelerator is found, then device pinned memory won't be used.\n",
      "  warnings.warn(warn_msg)\n"
     ]
    },
    {
     "data": {
      "text/html": [
       "\n",
       "    <div>\n",
       "      \n",
       "      <progress value='39' max='39' style='width:300px; height:20px; vertical-align: middle;'></progress>\n",
       "      [39/39 00:38]\n",
       "    </div>\n",
       "    "
      ],
      "text/plain": [
       "<IPython.core.display.HTML object>"
      ]
     },
     "metadata": {},
     "output_type": "display_data"
    },
    {
     "name": "stdout",
     "output_type": "stream",
     "text": [
      "{'eval_loss': 0.755383312702179, 'eval_accuracy': 0.7011494252873564, 'eval_f1': 0.6974367598733996, 'eval_precision': 0.7024959202774285, 'eval_recall': 0.7011494252873564, 'eval_runtime': 39.7271, 'eval_samples_per_second': 15.33, 'eval_steps_per_second': 0.982, 'epoch': 3.0}\n"
     ]
    }
   ],
   "source": [
    "metrics = trainer.evaluate()\n",
    "print(metrics)"
   ]
  }
 ],
 "metadata": {
  "kernelspec": {
   "display_name": "hf_env",
   "language": "python",
   "name": "python3"
  },
  "language_info": {
   "codemirror_mode": {
    "name": "ipython",
    "version": 3
   },
   "file_extension": ".py",
   "mimetype": "text/x-python",
   "name": "python",
   "nbconvert_exporter": "python",
   "pygments_lexer": "ipython3",
   "version": "3.10.18"
  }
 },
 "nbformat": 4,
 "nbformat_minor": 5
}
