{
 "cells": [
  {
   "cell_type": "markdown",
   "id": "6c361141",
   "metadata": {},
   "source": [
    "--Cargar pipeline y adjuntar la noticía--"
   ]
  },
  {
   "cell_type": "code",
   "execution_count": null,
   "id": "7714d989",
   "metadata": {},
   "outputs": [],
   "source": [
    "from transformers import pipeline\n",
    "\n",
    "# Cargar el pipeline de NER\n",
    "# aggregation_strategy=\"simple\" para agrupar entidades contiguas\n",
    "ner = pipeline(\"ner\", model=\"mrm8488/bert-spanish-cased-finetuned-ner\", aggregation_strategy=\"simple\")\n",
    "\n",
    "# Texto de ejemplo\n",
    "text = \"Barack Obama fue el 44º presidente de los Estados Unidos y nació en Honolulu, Hawái.\""
   ]
  },
  {
   "cell_type": "markdown",
   "id": "0c02cd50",
   "metadata": {},
   "source": [
    "--Realizar predicción--"
   ]
  },
  {
   "cell_type": "code",
   "execution_count": null,
   "id": "a7c4320f",
   "metadata": {},
   "outputs": [],
   "source": [
    "# Realizar el reconocimiento de entidades\n",
    "entities = ner(text)\n",
    "\n",
    "people = [entity for entity in entities if entity['entity_group'] == 'PER']\n",
    "\n",
    "# Mostrar las personas encontradas\n",
    "print(\"Personas encontradas:\", people[0]['word'])  # Imprime el nombre de la primera persona encontrada"
   ]
  }
 ],
 "metadata": {
  "kernelspec": {
   "display_name": "Python 3",
   "language": "python",
   "name": "python3"
  },
  "language_info": {
   "codemirror_mode": {
    "name": "ipython",
    "version": 3
   },
   "file_extension": ".py",
   "mimetype": "text/x-python",
   "name": "python",
   "nbconvert_exporter": "python",
   "pygments_lexer": "ipython3",
   "version": "3.13.5"
  }
 },
 "nbformat": 4,
 "nbformat_minor": 5
}
