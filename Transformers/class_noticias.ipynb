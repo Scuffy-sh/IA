{
 "cells": [
  {
   "cell_type": "markdown",
   "id": "f9d06110",
   "metadata": {},
   "source": [
    "--Cargar pipeline y adjuntar la noticía con las posibles etiquetas--"
   ]
  },
  {
   "cell_type": "code",
   "execution_count": null,
   "id": "10053177",
   "metadata": {},
   "outputs": [],
   "source": [
    "from transformers import pipeline\n",
    "\n",
    "# Pipeline de classificación de texto\n",
    "classifier = pipeline(\"zero-shot-classification\", model=\"facebook/bart-large-mnli\")\n",
    "\n",
    "# Texto de ejemplo\n",
    "notice = \"El gobierno de Estados Unidos otorgará 30,000 visas mensuales para personas de Colombia, Guatemala, Honduras y El Salvador.\"\n",
    "\n",
    "# Etiquetas posibles\n",
    "labels = [\"Política\", \"Economía\", \"Deportes\", \"Tecnología\", \"Salud\"]"
   ]
  },
  {
   "cell_type": "markdown",
   "id": "7442ea20",
   "metadata": {},
   "source": [
    "--Realizar predicción--"
   ]
  },
  {
   "cell_type": "code",
   "execution_count": null,
   "id": "d2dce9e3",
   "metadata": {},
   "outputs": [],
   "source": [
    "# Realizar la clasificación\n",
    "predict = classifier(notice, candidate_labels=labels)\n",
    "\n",
    "# Mostrar la etiqueta con mayor probabilidad\n",
    "predicted_label = predict['labels'][0]\n",
    "\n",
    "# Mostrar el resultado\n",
    "print(f\"Noticia: {notice}\")\n",
    "print(f\"Predicción: {predicted_label}\")"
   ]
  }
 ],
 "metadata": {
  "kernelspec": {
   "display_name": "Python 3",
   "language": "python",
   "name": "python3"
  },
  "language_info": {
   "codemirror_mode": {
    "name": "ipython",
    "version": 3
   },
   "file_extension": ".py",
   "mimetype": "text/x-python",
   "name": "python",
   "nbconvert_exporter": "python",
   "pygments_lexer": "ipython3",
   "version": "3.13.5"
  }
 },
 "nbformat": 4,
 "nbformat_minor": 5
}
