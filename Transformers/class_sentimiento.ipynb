{
 "cells": [
  {
   "cell_type": "markdown",
   "id": "ea2403dc",
   "metadata": {},
   "source": [
    "--Cargar el modelo preentrenado y el tokenizador--"
   ]
  },
  {
   "cell_type": "code",
   "execution_count": null,
   "id": "8634d457",
   "metadata": {},
   "outputs": [],
   "source": [
    "from transformers import AutoTokenizer, AutoModelForSequenceClassification\n",
    "import torch\n",
    "\n",
    "# Cargar el modelo preentrenado y el tokenizador\n",
    "model = AutoModelForSequenceClassification.from_pretrained(\"VerificadoProfesional/SaBERT-Spanish-Sentiment-Analysis\")\n",
    "tokenizer = AutoTokenizer.from_pretrained(\"VerificadoProfesional/SaBERT-Spanish-Sentiment-Analysis\")"
   ]
  },
  {
   "cell_type": "markdown",
   "id": "4a5c0a51",
   "metadata": {},
   "source": [
    "--Realizar predicción--"
   ]
  },
  {
   "cell_type": "code",
   "execution_count": null,
   "id": "a96e76d4",
   "metadata": {},
   "outputs": [],
   "source": [
    "# Texto de ejemplo para clasificar\n",
    "texto = \"Me encanta este producto, es excelente y lo recomiendo a todos.\"\n",
    "\n",
    "# Tokenizar el texto\n",
    "# return_tensors=\"pt\" convierte la salida en tensores de PyTorch\n",
    "# truncation=True asegura que el texto no exceda la longitud máxima del modelo\n",
    "# padding=True añade padding si el texto es más corto que la longitud máxima\n",
    "# max_length=512 establece la longitud máxima de los tokens (ajustar según el modelo)\n",
    "inputs = tokenizer(texto, return_tensors=\"pt\", truncation=True, padding=True, max_length=512)\n",
    "\n",
    "# Realizar la predicción\n",
    "with torch.no_grad():  # Desactivar el cálculo de gradientes para ahorrar memoria\n",
    "    outputs = model(**inputs)\n",
    "    logits = outputs.logits\n",
    "    \n",
    "# Verficar la forma de los logits\n",
    "print(f\"Logits: {logits}, Shape: {logits.shape}\")\n",
    "\n",
    "# Obtener la clase con la mayor probabilidad (logit)\n",
    "predicted_class = logits.argmax(dim=-1).item()\n",
    "\n",
    "# Mapear la clase predicha a una etiqueta legible\n",
    "labels = [\"Negativo\", \"Positivo\"]\n",
    "\n",
    "# Mostrar el resultado\n",
    "print(f\"Texto: {texto}\")\n",
    "print(f\"Sentimiento predicho: {labels[predicted_class]}\")\n",
    "\n",
    "\n"
   ]
  }
 ],
 "metadata": {
  "kernelspec": {
   "display_name": "Python 3",
   "language": "python",
   "name": "python3"
  },
  "language_info": {
   "codemirror_mode": {
    "name": "ipython",
    "version": 3
   },
   "file_extension": ".py",
   "mimetype": "text/x-python",
   "name": "python",
   "nbconvert_exporter": "python",
   "pygments_lexer": "ipython3",
   "version": "3.13.5"
  }
 },
 "nbformat": 4,
 "nbformat_minor": 5
}
