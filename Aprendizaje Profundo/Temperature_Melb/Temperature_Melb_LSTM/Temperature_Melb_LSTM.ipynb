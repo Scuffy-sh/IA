{
 "cells": [
  {
   "cell_type": "markdown",
   "id": "bd82b9ba",
   "metadata": {},
   "source": [
    "--Importación de librerias--"
   ]
  },
  {
   "cell_type": "code",
   "execution_count": null,
   "id": "0a08b6d5",
   "metadata": {},
   "outputs": [],
   "source": [
    "#Importando librerías necesarias\n",
    "import pandas as pd\n",
    "import matplotlib.pyplot as plt\n",
    "import joblib\n",
    "import numpy as np\n",
    "from sklearn.metrics import mean_squared_error, mean_absolute_error, r2_score, mean_absolute_percentage_error\n",
    "from tensorflow.keras.models import load_model\n",
    "\n",
    "#sklearn.processing para normalizar los datos\n",
    "from sklearn.preprocessing import MinMaxScaler\n",
    "\n",
    "# Importando el modelo LSTM de Keras\n",
    "from tensorflow.keras.models import Sequential\n",
    "from tensorflow.keras.layers import LSTM, Dense, Dropout, Input\n",
    "\n",
    "# Importando la función EarlyStopping para evitar el sobreajuste\n",
    "from tensorflow.keras.callbacks import EarlyStopping"
   ]
  },
  {
   "cell_type": "markdown",
   "id": "e6982089",
   "metadata": {},
   "source": [
    "--Definiendo la ruta y asignando el Dataset--"
   ]
  },
  {
   "cell_type": "code",
   "execution_count": null,
   "id": "02bad74f",
   "metadata": {},
   "outputs": [],
   "source": [
    "#Cargamos el dataset de temperaturas mínimas diarias en Melbourne\n",
    "#URL del dataset: https://www.kaggle.com/datasets/paulbrabban/daily-minimum-temperatures-in-melbourne\n",
    "melb_temp_path = \"D:\\\\Hacking\\\\Python\\\\AI_Learning\\\\Aprendizaje_Profundo\\\\Temperature_Melb_LSTM\\\\daily-minimum-temperatures-melb.csv\"\n",
    "melb_temp_data = pd.read_csv(melb_temp_path)"
   ]
  },
  {
   "cell_type": "markdown",
   "id": "ffd8d467",
   "metadata": {},
   "source": [
    "--Comprensión de la estructura del Dataset--"
   ]
  },
  {
   "cell_type": "code",
   "execution_count": null,
   "id": "afaeb7e8",
   "metadata": {},
   "outputs": [],
   "source": [
    "print(melb_temp_data.head())\n",
    "print(melb_temp_data.info())"
   ]
  },
  {
   "cell_type": "markdown",
   "id": "6010b385",
   "metadata": {},
   "source": [
    "--Tratamiento y ajuste de las columnas del Dataset--"
   ]
  },
  {
   "cell_type": "code",
   "execution_count": null,
   "id": "9f17cd04",
   "metadata": {},
   "outputs": [],
   "source": [
    "#Renombramos la columna 'Dayly minimum temperature in Melbourne, Australia' a 'Temp'\n",
    "#inplace=True permite modificar el DataFrame original sin crear una copia\n",
    "melb_temp_data.rename(columns={'Daily minimum temperatures in Melbourne, Australia, 1981-1990': 'Temp'}, inplace=True)\n",
    "\n",
    "#Convertimos la columna 'Date' a tipo datetime\n",
    "melb_temp_data['Date'] = pd.to_datetime(melb_temp_data['Date'])\n",
    "#Establecemos la columna 'Date' como índice del DataFrame\n",
    "melb_temp_data.set_index('Date', inplace=True)\n",
    "\n",
    "#Limpiamos los datos de temperatura, convirtiéndolos a numérico y eliminando los valores NaN\n",
    "melb_temp_data['Temp'] = pd.to_numeric(melb_temp_data['Temp'], errors='coerce')\n",
    "melb_temp_data.dropna(subset=['Temp'], inplace=True)"
   ]
  },
  {
   "cell_type": "markdown",
   "id": "1844e6be",
   "metadata": {},
   "source": [
    "--Preparación de los datos--"
   ]
  },
  {
   "cell_type": "code",
   "execution_count": null,
   "id": "0eda49a7",
   "metadata": {},
   "outputs": [],
   "source": [
    "#Definimos el escalador MinMaxScaler para normalizar los datos\n",
    "#feature_range=(0, 1) normaliza los datos entre 0 y 1\n",
    "scaler = MinMaxScaler(feature_range=(0, 1))\n",
    "#Ajustamos el escalador a los datos de temperatura\n",
    "temp_scaled = scaler.fit_transform(melb_temp_data[['Temp']])"
   ]
  },
  {
   "cell_type": "code",
   "execution_count": null,
   "id": "6c3efb6f",
   "metadata": {},
   "outputs": [],
   "source": [
    "#Función para crear secuencias temporales\n",
    "#X es la secuencia de entrada \n",
    "#y es el valor a predecir\n",
    "def create_sequences_multistep(data, input_steps, output_steps):\n",
    "    X, y = [], []\n",
    "    for i in range(len(data) - input_steps - output_steps):\n",
    "        X.append(data[i:(i + input_steps), 0])\n",
    "        y.append(data[i + input_steps:i + input_steps + output_steps, 0])\n",
    "    return np.array(X), np.array(y)\n",
    "\n",
    "#Tamaño de la ventana de tiempo\n",
    "steps = 30\n",
    "output_steps = 1  # Número de días a predecir\n",
    "#Creamos las secuencias temporales\n",
    "X, y = create_sequences_multistep(temp_scaled, steps, output_steps)"
   ]
  },
  {
   "cell_type": "markdown",
   "id": "dafbfb3d",
   "metadata": {},
   "source": [
    "--Entrenamiento del modelo--"
   ]
  },
  {
   "cell_type": "code",
   "execution_count": null,
   "id": "251274ad",
   "metadata": {},
   "outputs": [],
   "source": [
    "#Dividir los datos en conjuntos de entrenamiento y prueba\n",
    "#No usamos train_test_split para mantener la secuencia temporal\n",
    "train_size = int(len(X) * 0.7) # 70% para entrenamiento\n",
    "val_size = int(len(X) * 0.1)  # 10% para validación\n",
    "\n",
    "train_X = X[:train_size]\n",
    "train_y = y[:train_size]\n",
    "\n",
    "val_X = X[train_size:train_size + val_size]\n",
    "val_y = y[train_size:train_size + val_size]\n",
    "\n",
    "test_X = X[train_size + val_size:]\n",
    "test_y = y[train_size + val_size:]\n",
    "\n",
    "#Creacion del modelo LSTM\n",
    "model = Sequential([\n",
    "    \n",
    "    #Definimos la forma de entrada del modelo\n",
    "    Input(shape=(steps, 1)),\n",
    "    #Primera capa LSTM con 64 unidades, activación ReLU y forma de entrada definida por 'steps'\n",
    "    #La activación 'tanh' es común en RNNs para manejar la no linealidad [Rango de salida: -1 a 1]\n",
    "    LSTM(64, activation='tanh', return_sequences=True),\n",
    "    #Dropout para evitar el sobreajuste con una tasa de 0.2\n",
    "    Dropout(0.2),\n",
    "    \n",
    "    #Segunda capa LSTM con 32 unidades y activación 'tanh'\n",
    "    LSTM(32, activation='tanh'),\n",
    "    #Otra capa Dropout para evitar el sobreajuste\n",
    "    Dropout(0.2),\n",
    "    \n",
    "    #Dense para la capa de salida con una sola unidad\n",
    "    Dense(output_steps) #Salida\n",
    "])\n",
    "\n",
    "#Definimos EarlyStopping para detener el entrenamiento si no hay mejora en la validación\n",
    "#patience=10 significa que se detendrá si no hay mejora durante 10 epochs\n",
    "early_stopping = EarlyStopping(\n",
    "    patience=10,  # Número de épocas sin mejora antes de detener el entrenamiento\n",
    "    restore_best_weights=True,  # Restaurar los mejores pesos al final del entrenamiento\n",
    ")\n",
    "#Compilación del modelo\n",
    "#Usamos el optimizador Adam y la función de pérdida de error cuadrático medio (mean_squared_error)\n",
    "model.compile(optimizer='adam', loss='mean_squared_error')\n",
    "#Resumen del modelo\n",
    "model.summary()"
   ]
  },
  {
   "cell_type": "code",
   "execution_count": null,
   "id": "ed0d14fe",
   "metadata": {},
   "outputs": [],
   "source": [
    "#Entrenamiento del modelo\n",
    "#El modelo LSTM espera entradas con la forma (n_samples, steps, 1)\n",
    "model.fit(\n",
    "    train_X.reshape(-1, steps, 1), #Reshape de train_X para que tenga la forma optima (n_samples, steps, 1)\n",
    "    train_y,\n",
    "    validation_data=(val_X.reshape(-1, steps, 1), val_y),  #Reshape de val_X para la validación\n",
    "    epochs=200,  #Aumentamos el número de epochs a 200 para un entrenamiento más prolongado\n",
    "    batch_size=32, #El tamaño del batch es 32\n",
    "    callbacks=[early_stopping]  #Usamos EarlyStopping para evitar el sobreajuste\n",
    ") \n"
   ]
  },
  {
   "cell_type": "markdown",
   "id": "209b5418",
   "metadata": {},
   "source": [
    "--Evaluación del modelo--"
   ]
  },
  {
   "cell_type": "code",
   "execution_count": null,
   "id": "83ac1dac",
   "metadata": {},
   "outputs": [],
   "source": [
    "#Predicción del modelo\n",
    "pred_y = model.predict(test_X.reshape(-1, steps, 1))\n",
    "\n",
    "#Inversión de la normalización para obtener los valores originales\n",
    "pred_y_inv = scaler.inverse_transform(pred_y.reshape(-1, 1)).reshape(pred_y.shape)\n",
    "test_y_inv = scaler.inverse_transform(test_y.reshape(-1, 1)).reshape(test_y.shape)\n",
    "\n",
    "#Cálculo de las métricas de evaluación\n",
    "rmse = np.sqrt(mean_squared_error(test_y_inv, pred_y_inv))\n",
    "mae = mean_absolute_error(test_y_inv, pred_y_inv)\n",
    "r2 = r2_score(test_y_inv, pred_y_inv)\n",
    "mape = np.mean(np.abs((test_y_inv - pred_y_inv) / test_y_inv)) * 100\n",
    "\n",
    "\n",
    "#Mostramos los resultados\n",
    "print(\"Resultados del modelo LSTM:\")\n",
    "print(f\"Error promedio de ~{mae:.1f}ºC a {rmse:.1f}ºC\")\n",
    "print(f\"Variabilidad del: {r2 * 100:.2f}%\")\n",
    "print(f\"Porcentaje de error medio: {mape:.2f}%\")\n"
   ]
  },
  {
   "cell_type": "markdown",
   "id": "f123b8d8",
   "metadata": {},
   "source": [
    "--Grafico de predicciones frente a valores reales--"
   ]
  },
  {
   "cell_type": "code",
   "execution_count": null,
   "id": "2430e094",
   "metadata": {},
   "outputs": [],
   "source": [
    "#Visualización de los resultados a través de un gráfico\n",
    "plt.figure(figsize=(12, 5))\n",
    "plt.plot(test_y_inv, label='Valores Reales', color='blue')\n",
    "plt.plot(pred_y_inv, label='Predicciones', color='red')\n",
    "plt.title('Predicción de Temperatura con LSTM')\n",
    "plt.xlabel('Días')\n",
    "plt.ylabel('Temperatura (°C)')\n",
    "plt.legend()\n",
    "plt.show()"
   ]
  },
  {
   "cell_type": "code",
   "execution_count": null,
   "id": "ef84749e",
   "metadata": {},
   "outputs": [],
   "source": [
    "#Grafico con el error de predicción diario\n",
    "abs_error = np.abs(test_y_inv - pred_y_inv)\n",
    "plt.figure(figsize=(12, 4))\n",
    "plt.plot(abs_error, label='Error Absoluto Diario', color='orange')\n",
    "plt.title('Error Absoluto Diario de Predicción de Temperatura')\n",
    "plt.xlabel('Días')\n",
    "plt.ylabel('Error Absoluto (°C)')\n",
    "plt.legend()\n",
    "plt.show()"
   ]
  },
  {
   "cell_type": "markdown",
   "id": "b814d002",
   "metadata": {},
   "source": [
    "--Guardado del modelo entrenado--"
   ]
  },
  {
   "cell_type": "code",
   "execution_count": null,
   "id": "943c8a21",
   "metadata": {},
   "outputs": [],
   "source": [
    "#Guardado del modelo entrenado\n",
    "model.save('D:\\\\Hacking\\\\Python\\\\AI_Learning\\\\Aprendizaje_Profundo\\\\Temperature_Melb_LSTM\\\\melb_temp_LSTM_model.keras')\n",
    "\n",
    "#Guardado del escalador para normalizar los datos\n",
    "joblib.dump(scaler, 'D:\\\\Hacking\\\\Python\\\\AI_Learning\\\\Aprendizaje_Profundo\\\\Temperature_Melb_LSTM\\\\melb_temp_scaler.pkl')\n"
   ]
  },
  {
   "cell_type": "markdown",
   "id": "1ba54873",
   "metadata": {},
   "source": [
    "--Cargado el modelo entrenado--"
   ]
  },
  {
   "cell_type": "code",
   "execution_count": null,
   "id": "240eed8f",
   "metadata": {},
   "outputs": [],
   "source": [
    "#Cargado del escalador para normalizar los datos\n",
    "scaler = joblib.load('D:\\\\Hacking\\\\Python\\\\AI_Learning\\\\Aprendizaje_Profundo\\\\Temperature_Melb_LSTM\\\\melb_temp_scaler.pkl')\n",
    "\n",
    "model_loaded = load_model('D:\\\\Hacking\\\\Python\\\\AI_Learning\\\\Aprendizaje_Profundo\\\\Temperature_Melb_LSTM\\\\melb_temp_LSTM_model.keras')"
   ]
  },
  {
   "cell_type": "markdown",
   "id": "e496ce28",
   "metadata": {},
   "source": [
    "--Predicción sobre los próximos 7 dias--"
   ]
  },
  {
   "cell_type": "code",
   "execution_count": null,
   "id": "093c36ad",
   "metadata": {},
   "outputs": [],
   "source": [
    "#Tomamos la última secuencia de datos normalizados\n",
    "last_seq = temp_scaled[-steps:]  # Última secuencia de datos normalizados\n",
    "last_seq = last_seq.reshape(1, steps, 1)  # Reshape para el modelo LSTM\n",
    "\n",
    "#Predicción de los próximos 7 días de forma directa (seq2seq)\n",
    "future_preds = model_loaded.predict(last_seq)\n",
    "future_preds_inv = scaler.inverse_transform(future_preds.reshape(-1, 1))\n",
    "\n",
    "print(\"Predicciones para los próximos 7 días:\")\n",
    "#Bucle para imprimir las predicciones\n",
    "for i, temp in enumerate(future_preds_inv.flatten(), start=1):\n",
    "    print(f\"Día {i}: {temp:.2f}°C\")"
   ]
  },
  {
   "cell_type": "code",
   "execution_count": null,
   "id": "9ac37b46",
   "metadata": {},
   "outputs": [],
   "source": [
    "#Generación de fechas para las predicciones futuras\n",
    "future_dates = pd.date_range(start=melb_temp_data.index[-1] + pd.Timedelta(days=1), periods=output_steps)\n",
    "\n",
    "#Visualización de las predicciones para los próximos 7 días\n",
    "plt.figure(figsize=(10, 5))\n",
    "plt.plot(melb_temp_data.index[-30:], scaler.inverse_transform(temp_scaled[-30:]), label='Últimos 30 dias', color='blue')\n",
    "plt.plot(future_dates, future_preds_inv, label='Predicción próximos 7 dias', marker='o', color='red')\n",
    "plt.title('Predicción de Temperatura para los Próximos 7 Días')\n",
    "plt.xlabel('Fecha (Día/Mes)')\n",
    "plt.ylabel('Temperatura (°C)')\n",
    "plt.legend()\n",
    "\n",
    "#Formateo de las fechas en el eje x\n",
    "plt.gca().xaxis.set_major_formatter(plt.matplotlib.dates.DateFormatter('%d/%m'))\n",
    "plt.gcf().autofmt_xdate()  # Rotar las etiquetas del eje x para mejor visibilidad\n",
    "plt.show()"
   ]
  }
 ],
 "metadata": {
  "kernelspec": {
   "display_name": "Python 3",
   "language": "python",
   "name": "python3"
  },
  "language_info": {
   "codemirror_mode": {
    "name": "ipython",
    "version": 3
   },
   "file_extension": ".py",
   "mimetype": "text/x-python",
   "name": "python",
   "nbconvert_exporter": "python",
   "pygments_lexer": "ipython3",
   "version": "3.13.5"
  }
 },
 "nbformat": 4,
 "nbformat_minor": 5
}
