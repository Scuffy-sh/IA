{
 "cells": [
  {
   "cell_type": "markdown",
   "id": "4190757b",
   "metadata": {},
   "source": [
    "--Importación de librerias--"
   ]
  },
  {
   "cell_type": "code",
   "execution_count": null,
   "id": "cc50d7e6",
   "metadata": {},
   "outputs": [],
   "source": [
    "#Importamos las librerías necesarias\n",
    "import pandas as pd\n",
    "from xgboost import XGBClassifier\n",
    "from sklearn.model_selection import train_test_split\n",
    "from sklearn.metrics import accuracy_score, classification_report"
   ]
  },
  {
   "cell_type": "markdown",
   "id": "3b391cfa",
   "metadata": {},
   "source": [
    "--Definiendo la ruta y asignando el dataset--"
   ]
  },
  {
   "cell_type": "code",
   "execution_count": null,
   "id": "b43258f7",
   "metadata": {},
   "outputs": [],
   "source": [
    "#Cargamos el dataset de Titanic\n",
    "#URL del dataset de Titanic: https://www.kaggle.com/c/titanic/data\n",
    "titanic_path = 'D:\\\\Hacking\\\\Python\\\\AI_Learning\\\\Aprendizaje_Supervisado\\\\Titanic_Survive\\\\titanic.csv'\n",
    "titanic_data = pd.read_csv(titanic_path)"
   ]
  },
  {
   "cell_type": "markdown",
   "id": "43e6069d",
   "metadata": {},
   "source": [
    "--Marcando las caracteristicas de entrenamiento del modelo y la variable objetivo--"
   ]
  },
  {
   "cell_type": "code",
   "execution_count": null,
   "id": "cb40cbb2",
   "metadata": {},
   "outputs": [],
   "source": [
    "#Seleccionamos las caracteristicas que vamos a utilizar (incluyendo categoricas y numericas)\n",
    "titanic_features = ['Pclass', 'Sex', 'Age', 'SibSp', 'Parch', 'Fare', 'Embarked']\n",
    "#Seleccionamos la variable objetivo que vamos a predecir\n",
    "titanic_target = 'Survived'"
   ]
  },
  {
   "cell_type": "markdown",
   "id": "ccb79074",
   "metadata": {},
   "source": [
    "--Filtrado de datos--"
   ]
  },
  {
   "cell_type": "code",
   "execution_count": null,
   "id": "98dcf1a6",
   "metadata": {},
   "outputs": [],
   "source": [
    "#Eliminamos filas con valores nulos en las caracteristicas y la variable objetivo\n",
    "titanic_data = titanic_data[titanic_features + [titanic_target]].dropna()"
   ]
  },
  {
   "cell_type": "markdown",
   "id": "a094a99d",
   "metadata": {},
   "source": [
    "--Asignacion de caracteristicas a las variables de entrenamiento y testeo--"
   ]
  },
  {
   "cell_type": "code",
   "execution_count": null,
   "id": "7172e9d2",
   "metadata": {},
   "outputs": [],
   "source": [
    "#One-hot encoding de las caracteristicas categoricas\n",
    "X = pd.get_dummies(titanic_data[titanic_features])\n",
    "y = titanic_data[titanic_target]"
   ]
  },
  {
   "cell_type": "code",
   "execution_count": null,
   "id": "47528b1d",
   "metadata": {},
   "outputs": [],
   "source": [
    "#Dividimos los datos en dos conjuntos: entrenamiento y prueba\n",
    "#test_size=0.2 significa que el 20% de los datos se utilizaran para probar el modelo\n",
    "#random_state=42 asegura que la division sea reproducible\n",
    "train_X, test_X, train_y, test_y = train_test_split(X, y, test_size=0.2, random_state=12)"
   ]
  },
  {
   "cell_type": "markdown",
   "id": "f64de474",
   "metadata": {},
   "source": [
    "--Definiendo y entrenando el XGBoost--"
   ]
  },
  {
   "cell_type": "code",
   "execution_count": null,
   "id": "3ca6520a",
   "metadata": {},
   "outputs": [],
   "source": [
    "#Defimos el XGBoost que vamos a utilizar\n",
    "#El modelo XGBClassifier es utilizado para problemas de clasificacion\n",
    "xgb_model = XGBClassifier(\n",
    "    eval_metric='logloss',  #Metrica de evaluacion\n",
    "    use_label_encoder=False,  #Evita el warning de label encoder\n",
    "    random_state=12  #Semilla para la aleatoriedad\n",
    ")\n",
    "\n",
    "#Ajustamos el modelo a los datos\n",
    "xgb_model.fit(train_X, train_y)\n",
    "\n",
    "#Generamos una prediccion de los datos con el modelo\n",
    "xgb_preds = xgb_model.predict(test_X)"
   ]
  },
  {
   "cell_type": "markdown",
   "id": "b6cc9c83",
   "metadata": {},
   "source": [
    "--Evaluación del modelo--"
   ]
  },
  {
   "cell_type": "code",
   "execution_count": null,
   "id": "142780ef",
   "metadata": {},
   "outputs": [],
   "source": [
    "#Calculamos la precision del modelo\n",
    "xgb_accuracy = accuracy_score(test_y, xgb_preds)\n",
    "\n",
    "#Imprimimos la precisión del modelo\n",
    "print(f\"Precisión del XGBoost: {100 * xgb_accuracy:.2f}%\")\n",
    "#Imprimimos el reporte de clasificación\n",
    "print(classification_report(test_y, xgb_preds))"
   ]
  },
  {
   "cell_type": "markdown",
   "id": "b0c13847",
   "metadata": {},
   "source": [
    "--Analizando que variables han sido más importantes--"
   ]
  },
  {
   "cell_type": "code",
   "execution_count": null,
   "id": "eb0fa1f6",
   "metadata": {},
   "outputs": [],
   "source": [
    "import pandas as pd\n",
    "import matplotlib.pyplot as plt\n",
    "import numpy as np\n",
    "\n",
    "# Importancias originales del modelo\n",
    "importances = xgb_model.feature_importances_\n",
    "feature_names = train_X.columns\n",
    "\n",
    "# Convertimos a DataFrame para manejarlo mejor\n",
    "fi_df = pd.DataFrame({'feature': feature_names, 'importance': importances})\n",
    "\n",
    "# Agrupar por nombre original (antes del \"_\")\n",
    "fi_df['original_feature'] = fi_df['feature'].str.split('_').str[0]\n",
    "fi_grouped = fi_df.groupby('original_feature')['importance'].sum().sort_values()\n",
    "\n",
    "# Gráfico limpio\n",
    "plt.figure(figsize=(8,5))\n",
    "plt.barh(fi_grouped.index, fi_grouped.values)\n",
    "plt.xlabel('Importancia')\n",
    "plt.ylabel('Características')\n",
    "plt.title('Importancia de las Características (Agrupadas)')\n",
    "plt.show()"
   ]
  },
  {
   "cell_type": "markdown",
   "id": "bec59b8f",
   "metadata": {},
   "source": [
    "--Guardando los modelos entrenados--"
   ]
  },
  {
   "cell_type": "code",
   "execution_count": null,
   "id": "dc055e0e",
   "metadata": {},
   "outputs": [],
   "source": [
    "import joblib\n",
    "#Guardamos los modelos ya entrenados\n",
    "joblib.dump(xgb_model, 'xgb_model.pkl')\n"
   ]
  },
  {
   "cell_type": "markdown",
   "id": "6218f139",
   "metadata": {},
   "source": [
    "--Cargando los modelos entrenados--"
   ]
  },
  {
   "cell_type": "code",
   "execution_count": null,
   "id": "12ffc929",
   "metadata": {},
   "outputs": [],
   "source": [
    "import joblib\n",
    "#Para cargar los modelos guardados y usarlos posteriormente\n",
    "xgb_model_loaded = joblib.load('xgb_model.pkl')\n"
   ]
  },
  {
   "cell_type": "markdown",
   "id": "cafb00cd",
   "metadata": {},
   "source": [
    "--Haciendo nuevas predicciones para ver el correcto funcionamiento del modelo--"
   ]
  },
  {
   "cell_type": "code",
   "execution_count": null,
   "id": "d85f6aa1",
   "metadata": {},
   "outputs": [],
   "source": [
    "#Creamos un nuevo pasajero para predecir su supervivencia\n",
    "new_passenger = pd.DataFrame([{\n",
    "    'Pclass': 3,\n",
    "    'Sex': 'male',\n",
    "    'Age': 22,\n",
    "    'SibSp': 1,\n",
    "    'Parch': 0,\n",
    "    'Fare': 7.25,\n",
    "    'Embarked': 'S'\n",
    "}])"
   ]
  },
  {
   "cell_type": "markdown",
   "id": "f98d4139",
   "metadata": {},
   "source": [
    "--Tratamiento de los datos del nuevo pasajero--"
   ]
  },
  {
   "cell_type": "code",
   "execution_count": null,
   "id": "ba53be79",
   "metadata": {},
   "outputs": [],
   "source": [
    "#Realizamos el one-hot encoding del nuevo pasajero\n",
    "new_passenger_encoded = pd.get_dummies(new_passenger)\n",
    "\n",
    "#Alineamos las columnas del nuevo pasajero con las del modelo\n",
    "new_passenger_encoded = new_passenger_encoded.reindex(columns=train_X.columns, fill_value=0)"
   ]
  },
  {
   "cell_type": "markdown",
   "id": "fe64a9b7",
   "metadata": {},
   "source": [
    "--Realizando la prediccion de supervivencia sobre los dos modelos--"
   ]
  },
  {
   "cell_type": "code",
   "execution_count": null,
   "id": "853da035",
   "metadata": {},
   "outputs": [],
   "source": [
    "#Realizamos la prediccion de supervivencia\n",
    "xgb_prediction = xgb_model_loaded.predict(new_passenger_encoded)"
   ]
  },
  {
   "cell_type": "markdown",
   "id": "47267b32",
   "metadata": {},
   "source": [
    "--Mostrando el resultado sobre la supervivencia del nuevo pasajero en los dos modelos--"
   ]
  },
  {
   "cell_type": "code",
   "execution_count": null,
   "id": "361c012f",
   "metadata": {},
   "outputs": [],
   "source": [
    "#Mostramos la prediccion de supervivencia\n",
    "print(f\"Sobrevive el pasajero (XGBoost): {'Sí' if xgb_prediction[0] == 1 else 'No'}\")"
   ]
  },
  {
   "cell_type": "markdown",
   "id": "b42bca4f",
   "metadata": {},
   "source": [
    "--Mejorando la entrada de nuevos pasajeros--"
   ]
  },
  {
   "cell_type": "code",
   "execution_count": null,
   "id": "fe17b947",
   "metadata": {},
   "outputs": [],
   "source": [
    "# Definimos una función para crear un nuevo pasajero con las características necesarias\n",
    "def new_passenger(pclass, sex, age, sibsp, parch, fare, embarked, columns):\n",
    "    \n",
    "    # Creamos un DataFrame con las características del nuevo pasajero\n",
    "    # Nos aseguramos que las columnas coincidan con las del modelo\n",
    "    df = pd.DataFrame([{\n",
    "        'Pclass': pclass,\n",
    "        'Sex': sex,\n",
    "        'Age': age,\n",
    "        'SibSp': sibsp,\n",
    "        'Parch': parch,\n",
    "        'Fare': fare,\n",
    "        'Embarked': embarked\n",
    "    }])\n",
    "    \n",
    "    # Realizamos el one-hot encoding de las características categóricas\n",
    "    xgb_encoded = pd.get_dummies(df)\n",
    "    # Alineamos las columnas del nuevo pasajero con las del modelo\n",
    "    # Esto asegura que todas las columnas necesarias estén presentes, incluso si algunas son 0\n",
    "    xgb_encoded = xgb_encoded.reindex(columns=columns, fill_value=0)\n",
    "    # Devolvemos el DataFrame codificado\n",
    "    return xgb_encoded"
   ]
  },
  {
   "cell_type": "markdown",
   "id": "22bbf39e",
   "metadata": {},
   "source": [
    "--Añadiendo nuevo pasajero--"
   ]
  },
  {
   "cell_type": "code",
   "execution_count": null,
   "id": "07ae8094",
   "metadata": {},
   "outputs": [],
   "source": [
    "new_passenger_encoded = new_passenger(pclass=3, sex='male', age=22, sibsp=1, parch=0, fare=7.25, embarked='S', columns=train_X.columns)"
   ]
  },
  {
   "cell_type": "markdown",
   "id": "abcd6d15",
   "metadata": {},
   "source": [
    "--Realizando la prediccion de supervivencia sobre los dos modelos--"
   ]
  },
  {
   "cell_type": "code",
   "execution_count": null,
   "id": "ee76c601",
   "metadata": {},
   "outputs": [],
   "source": [
    "xgb_prediction = xgb_model_loaded.predict(new_passenger_encoded)\n"
   ]
  },
  {
   "cell_type": "markdown",
   "id": "ceafbf96",
   "metadata": {},
   "source": [
    "--Mostrando el resultado sobre la supervivencia del nuevo pasajero en los dos modelos--"
   ]
  },
  {
   "cell_type": "code",
   "execution_count": null,
   "id": "b67747cf",
   "metadata": {},
   "outputs": [],
   "source": [
    "#Mostramos la prediccion de supervivencia\n",
    "print(f\"Sobrevive el pasajero (XGBoost): {'Sí' if xgb_prediction[0] == 1 else 'No'}\")"
   ]
  }
 ],
 "metadata": {
  "kernelspec": {
   "display_name": "Python 3",
   "language": "python",
   "name": "python3"
  },
  "language_info": {
   "codemirror_mode": {
    "name": "ipython",
    "version": 3
   },
   "file_extension": ".py",
   "mimetype": "text/x-python",
   "name": "python",
   "nbconvert_exporter": "python",
   "pygments_lexer": "ipython3",
   "version": "3.13.5"
  }
 },
 "nbformat": 4,
 "nbformat_minor": 5
}
