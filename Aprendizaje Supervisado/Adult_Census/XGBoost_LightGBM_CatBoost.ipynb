{
 "cells": [
  {
   "cell_type": "markdown",
   "id": "20b8fe85",
   "metadata": {},
   "source": [
    "--Importar librerias necesarias--"
   ]
  },
  {
   "cell_type": "code",
   "execution_count": null,
   "id": "7aaccf31",
   "metadata": {},
   "outputs": [],
   "source": [
    "#Importar librerias necesarias\n",
    "import pandas as pd\n",
    "import numpy as np\n",
    "import time\n",
    "import matplotlib.pyplot as plt\n",
    "from sklearn.model_selection import train_test_split\n",
    "from sklearn.metrics import accuracy_score, classification_report, f1_score\n",
    "from xgboost import XGBClassifier\n",
    "import lightgbm as lgb\n",
    "from catboost import CatBoostClassifier"
   ]
  },
  {
   "cell_type": "markdown",
   "id": "1088677d",
   "metadata": {},
   "source": [
    "--Cargando del dataset desde UCI--"
   ]
  },
  {
   "cell_type": "code",
   "execution_count": null,
   "id": "09fee22b",
   "metadata": {},
   "outputs": [],
   "source": [
    "# Cargar el conjunto de datos\n",
    "url = \"https://archive.ics.uci.edu/ml/machine-learning-databases/adult/adult.data\"\n",
    "\n",
    "# Definir los nombres de las columnas\n",
    "columns = [\n",
    "    \"age\", \"workclass\", \"fnlwgt\", \"education\", \"education-num\", \"marital-status\",\n",
    "    \"occupation\", \"relationship\", \"race\", \"sex\", \"capital-gain\", \"capital-loss\",\n",
    "    \"hours-per-week\", \"native-country\", \"income\"\n",
    "]\n",
    "\n",
    "# Cargar el conjunto de datos\n",
    "data = pd.read_csv(url, names=columns, na_values=\" ?\", skipinitialspace=True)"
   ]
  },
  {
   "cell_type": "markdown",
   "id": "c35fc23d",
   "metadata": {},
   "source": [
    "--Limpieza de datos--"
   ]
  },
  {
   "cell_type": "code",
   "execution_count": null,
   "id": "82abfbba",
   "metadata": {},
   "outputs": [],
   "source": [
    "data.dropna(inplace=True)  # Eliminar filas con valores faltantes"
   ]
  },
  {
   "cell_type": "markdown",
   "id": "1f5e92f8",
   "metadata": {},
   "source": [
    "--Separaración de features y target--"
   ]
  },
  {
   "cell_type": "code",
   "execution_count": null,
   "id": "42025e93",
   "metadata": {},
   "outputs": [],
   "source": [
    "X = data.drop(\"income\", axis=1)  # Features\n",
    "y = data[\"income\"].apply(lambda x: 1 if x == \">50K\" else 0)  # Target variable"
   ]
  },
  {
   "cell_type": "markdown",
   "id": "b2be8b3d",
   "metadata": {},
   "source": [
    "--One-hot encoding para categóricas--"
   ]
  },
  {
   "cell_type": "code",
   "execution_count": null,
   "id": "f37fc1ef",
   "metadata": {},
   "outputs": [],
   "source": [
    "X_encoded = pd.get_dummies(X) # One-hot encoding para categóricas"
   ]
  },
  {
   "cell_type": "markdown",
   "id": "80fa6d4f",
   "metadata": {},
   "source": [
    "--División entre entrenamiento y testeo--"
   ]
  },
  {
   "cell_type": "code",
   "execution_count": null,
   "id": "b2a41b90",
   "metadata": {},
   "outputs": [],
   "source": [
    "# Dividir el conjunto de datos en entrenamiento y prueba\n",
    "train_X, test_X, train_y, test_y = train_test_split(X_encoded, y, test_size=0.2, random_state=12)"
   ]
  },
  {
   "cell_type": "markdown",
   "id": "4c01bbf7",
   "metadata": {},
   "source": [
    "--Entrenamiento del modelo XGBoost--"
   ]
  },
  {
   "cell_type": "code",
   "execution_count": null,
   "id": "51c25bb1",
   "metadata": {},
   "outputs": [],
   "source": [
    "start_time = time.time() # Iniciar temporizador\n",
    "# Entrenar el modelo\n",
    "xgb_model = XGBClassifier(\n",
    "    eval_metric=\"logloss\",\n",
    "    use_label_encoder=False,\n",
    "    random_state=12,\n",
    ")\n",
    "# Ajustar el modelo\n",
    "xgb_model.fit(train_X, train_y)\n",
    "\n",
    "xgb_train_time = time.time() - start_time # Tiempo de entrenamiento"
   ]
  },
  {
   "cell_type": "markdown",
   "id": "08bcbcd5",
   "metadata": {},
   "source": [
    "--Evaluación del modelo--"
   ]
  },
  {
   "cell_type": "code",
   "execution_count": null,
   "id": "87e86344",
   "metadata": {},
   "outputs": [],
   "source": [
    "# Evaluar el modelo\n",
    "xgb_preds = xgb_model.predict(test_X)\n",
    "xgb_accuracy = accuracy_score(test_y, xgb_preds) # Precisión\n",
    "xgb_f1 = f1_score(test_y, xgb_preds) # F1 Score"
   ]
  },
  {
   "cell_type": "code",
   "execution_count": null,
   "id": "f886c788",
   "metadata": {},
   "outputs": [],
   "source": [
    "# Imprimir resultados\n",
    "print(\"Resultados modelo XGBoost\")\n",
    "print(f\"Tiempo de entrenamiento: {xgb_train_time:.2f} segundos\")\n",
    "print(f\"Precisión: {100 * xgb_accuracy:.2f}%\")\n",
    "print(f\"F1 Score: {100 * xgb_f1:.2f}%\")\n",
    "print(\"Reporte de clasificación:\\n\", classification_report(test_y, xgb_preds))"
   ]
  },
  {
   "cell_type": "markdown",
   "id": "75cbc675",
   "metadata": {},
   "source": [
    "--Importacias de caracteristicas--"
   ]
  },
  {
   "cell_type": "code",
   "execution_count": null,
   "id": "f2682a04",
   "metadata": {},
   "outputs": [],
   "source": [
    "xgb_importances = pd.Series(xgb_model.feature_importances_, index=train_X.columns) # Importancias de características\n",
    "xgb_importances = xgb_importances[xgb_importances > 0].sort_values() # Filtrar y ordenar importancias"
   ]
  },
  {
   "cell_type": "code",
   "execution_count": null,
   "id": "953fb7a6",
   "metadata": {},
   "outputs": [],
   "source": [
    "#Representación gráfica de Importancias\n",
    "plt.figure(figsize=(8, 10))\n",
    "xgb_importances.tail(20).plot(kind='barh') # Top 20\n",
    "plt.title(\"Importancias de Características - XGBoost\")\n",
    "plt.xlabel(\"Importancia\")\n",
    "plt.show()"
   ]
  },
  {
   "cell_type": "markdown",
   "id": "350df333",
   "metadata": {},
   "source": [
    "--Entrenamiento del modelo LigthGBM--"
   ]
  },
  {
   "cell_type": "code",
   "execution_count": null,
   "id": "31012d0c",
   "metadata": {},
   "outputs": [],
   "source": [
    "start_time = time.time() # Iniciar temporizador\n",
    "# Entrenar el modelo\n",
    "lgb_model = lgb.LGBMClassifier(\n",
    "    objective='binary', # Objetivo de clasificación binaria\n",
    "    metric='binary_logloss', # Métrica de evaluación\n",
    "    random_state=12, # Semilla para la aleatoriedad\n",
    ")\n",
    "# Ajustar el modelo\n",
    "lgb_model.fit(train_X, train_y)\n",
    "\n",
    "lgb_train_time = time.time() - start_time # Tiempo de entrenamiento"
   ]
  },
  {
   "cell_type": "markdown",
   "id": "f8dd5052",
   "metadata": {},
   "source": [
    "--Evaluación del modelo--"
   ]
  },
  {
   "cell_type": "code",
   "execution_count": null,
   "id": "98383ead",
   "metadata": {},
   "outputs": [],
   "source": [
    "# Evaluar el modelo\n",
    "lgb_preds = lgb_model.predict(test_X)\n",
    "lgb_accuracy = accuracy_score(test_y, lgb_preds) # Precisión\n",
    "lgb_f1 = f1_score(test_y, lgb_preds) # F1 Score"
   ]
  },
  {
   "cell_type": "code",
   "execution_count": null,
   "id": "ca84554b",
   "metadata": {},
   "outputs": [],
   "source": [
    "# Imprimir resultados\n",
    "print(\"Resultados modelo LightGBM\")\n",
    "print(f\"Tiempo de entrenamiento: {lgb_train_time:.2f} segundos\")\n",
    "print(f\"Precisión: {100 * lgb_accuracy:.2f}%\")\n",
    "print(f\"F1 Score: {100 * lgb_f1:.2f}%\")\n",
    "print(\"Reporte de clasificación:\\n\", classification_report(test_y, lgb_preds))"
   ]
  },
  {
   "cell_type": "markdown",
   "id": "e6ce380c",
   "metadata": {},
   "source": [
    "--Importacias de caracteristicas--"
   ]
  },
  {
   "cell_type": "code",
   "execution_count": null,
   "id": "69f29a65",
   "metadata": {},
   "outputs": [],
   "source": [
    "lgb_importances = pd.Series(lgb_model.feature_importances_, index=train_X.columns) # Importancias de características\n",
    "lgb_importances = lgb_importances[lgb_importances > 0].sort_values() # Filtrar y ordenar importancias"
   ]
  },
  {
   "cell_type": "code",
   "execution_count": null,
   "id": "c15dfbea",
   "metadata": {},
   "outputs": [],
   "source": [
    "#Representación gráfica de Importancias\n",
    "plt.figure(figsize=(8, 10))\n",
    "lgb_importances.tail(20).plot(kind='barh') # Top 20\n",
    "plt.title(\"Importancias de Características - LightGBM\")\n",
    "plt.xlabel(\"Importancia\")\n",
    "plt.show()"
   ]
  },
  {
   "cell_type": "markdown",
   "id": "2577d45e",
   "metadata": {},
   "source": [
    "--Entrenamiento del modelo CatBoost--"
   ]
  },
  {
   "cell_type": "code",
   "execution_count": null,
   "id": "32ad9097",
   "metadata": {},
   "outputs": [],
   "source": [
    "start_time = time.time() # Iniciar temporizador\n",
    "# Entrenar el modelo\n",
    "cat_model = CatBoostClassifier(\n",
    "    iterations=1000, # Número de iteraciones\n",
    "    learning_rate=0.1, # Tasa de aprendizaje\n",
    "    depth=6, # Profundidad del árbol\n",
    "    loss_function='Logloss', # Función de pérdida\n",
    "    random_seed=12, # Semilla para la aleatoriedad\n",
    "    verbose=0\n",
    ")\n",
    "# Ajustar el modelo\n",
    "cat_model.fit(train_X, train_y)\n",
    "\n",
    "cat_train_time = time.time() - start_time # Tiempo de entrenamiento"
   ]
  },
  {
   "cell_type": "markdown",
   "id": "6a4522c0",
   "metadata": {},
   "source": [
    "--Evaluación del modelo--"
   ]
  },
  {
   "cell_type": "code",
   "execution_count": null,
   "id": "a2f2dde8",
   "metadata": {},
   "outputs": [],
   "source": [
    "# Evaluar el modelo\n",
    "cat_preds = cat_model.predict(test_X)\n",
    "cat_accuracy = accuracy_score(test_y, cat_preds) # Precisión\n",
    "cat_f1 = f1_score(test_y, cat_preds) # F1 Score"
   ]
  },
  {
   "cell_type": "code",
   "execution_count": null,
   "id": "334a4c68",
   "metadata": {},
   "outputs": [],
   "source": [
    "# Imprimir resultados\n",
    "print(\"Resultados modelo CatBoost\")\n",
    "print(f\"Tiempo de entrenamiento: {cat_train_time:.2f} segundos\")\n",
    "print(f\"Precisión: {100 * cat_accuracy:.2f}%\")\n",
    "print(f\"F1 Score: {100 * cat_f1:.2f}%\")\n",
    "print(\"Reporte de clasificación:\\n\", classification_report(test_y, cat_preds))"
   ]
  },
  {
   "cell_type": "markdown",
   "id": "ba0e258b",
   "metadata": {},
   "source": [
    "--Importacias de caracteristicas--"
   ]
  },
  {
   "cell_type": "code",
   "execution_count": null,
   "id": "bcef0be7",
   "metadata": {},
   "outputs": [],
   "source": [
    "cat_importances = pd.Series(cat_model.feature_importances_, index=train_X.columns) # Importancias de características\n",
    "cat_importances = cat_importances[cat_importances > 0].sort_values() # Filtrar y ordenar importancias"
   ]
  },
  {
   "cell_type": "code",
   "execution_count": null,
   "id": "3514ed84",
   "metadata": {},
   "outputs": [],
   "source": [
    "#Representación gráfica de Importancias\n",
    "plt.figure(figsize=(8, 10))\n",
    "cat_importances.tail(20).plot(kind='barh') # Top 20\n",
    "plt.title(\"Importancias de Características - CatBoost\")\n",
    "plt.xlabel(\"Importancia\")\n",
    "plt.show()"
   ]
  },
  {
   "cell_type": "markdown",
   "id": "c1c50056",
   "metadata": {},
   "source": [
    "--Comparativa de modelos--"
   ]
  },
  {
   "cell_type": "code",
   "execution_count": null,
   "id": "7d6a9827",
   "metadata": {},
   "outputs": [],
   "source": [
    "# Guardar resultados de XGBoost\n",
    "results = []\n",
    "results.append({\n",
    "    \"Modelo\": \"XGBoost\",\n",
    "    \"Precisión\": xgb_accuracy * 100,\n",
    "    \"F1-score\": xgb_f1 * 100,\n",
    "    \"Tiempo (s)\": xgb_train_time\n",
    "})\n",
    "\n",
    "# Guardar resultados de LightGBM\n",
    "results.append({\n",
    "    \"Modelo\": \"LightGBM\",\n",
    "    \"Precisión\": lgb_accuracy * 100,\n",
    "    \"F1-score\": lgb_f1 * 100,\n",
    "    \"Tiempo (s)\": lgb_train_time\n",
    "})\n",
    "\n",
    "# Guardar resultados de CatBoost\n",
    "results.append({\n",
    "    \"Modelo\": \"CatBoost\",\n",
    "    \"Precisión\": cat_accuracy * 100,\n",
    "    \"F1-score\": cat_f1 * 100,\n",
    "    \"Tiempo (s)\": cat_train_time\n",
    "})"
   ]
  },
  {
   "cell_type": "code",
   "execution_count": null,
   "id": "bc007620",
   "metadata": {},
   "outputs": [],
   "source": [
    "# Crear DataFrame con los resultados\n",
    "df_results = pd.DataFrame(results)\n",
    "\n",
    "#Redondear resultados\n",
    "df_results[\"Precisión\"] = df_results[\"Precisión\"].round(2).astype(str) + \"%\"\n",
    "df_results[\"F1-score\"] = df_results[\"F1-score\"].round(2).astype(str) + \"%\"\n",
    "df_results[\"Tiempo (s)\"] = df_results[\"Tiempo (s)\"].round(2).astype(str) + \" s\"\n",
    "\n",
    "print(\"\\nResultados Comparativos:\")\n",
    "print(df_results.sort_values(by=\"Precisión\", ascending=False))\n"
   ]
  }
 ],
 "metadata": {
  "kernelspec": {
   "display_name": "Python 3",
   "language": "python",
   "name": "python3"
  },
  "language_info": {
   "codemirror_mode": {
    "name": "ipython",
    "version": 3
   },
   "file_extension": ".py",
   "mimetype": "text/x-python",
   "name": "python",
   "nbconvert_exporter": "python",
   "pygments_lexer": "ipython3",
   "version": "3.13.5"
  }
 },
 "nbformat": 4,
 "nbformat_minor": 5
}
