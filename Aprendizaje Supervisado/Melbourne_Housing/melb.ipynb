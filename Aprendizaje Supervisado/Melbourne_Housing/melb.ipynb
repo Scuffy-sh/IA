{
 "cells": [
  {
   "cell_type": "markdown",
   "id": "c6f74813",
   "metadata": {},
   "source": [
    "--Importación de librerias--"
   ]
  },
  {
   "cell_type": "code",
   "execution_count": null,
   "id": "65f2083c",
   "metadata": {},
   "outputs": [],
   "source": [
    "#Importando librerías necesarias\n",
    "import pandas as pd\n",
    "import matplotlib.pyplot as plt\n",
    "import numpy as np\n",
    "import joblib\n",
    "from sklearn.tree import DecisionTreeRegressor\n",
    "from sklearn.ensemble import RandomForestRegressor\n",
    "from sklearn.model_selection import train_test_split\n",
    "from sklearn.metrics import (\n",
    "    mean_absolute_error,\n",
    "    mean_squared_error,\n",
    "    r2_score,\n",
    "    mean_absolute_percentage_error,\n",
    "    explained_variance_score,\n",
    ")"
   ]
  },
  {
   "cell_type": "markdown",
   "id": "db7ae46a",
   "metadata": {},
   "source": [
    "--Definiendo la ruta y asignando el dataset--"
   ]
  },
  {
   "cell_type": "code",
   "execution_count": null,
   "id": "d85a4b83",
   "metadata": {},
   "outputs": [],
   "source": [
    "#Cargamos el dataset de Melbourne Housing\n",
    "#URL del dataset: /kaggle/input/melbourne-housing-snapshot/melb_data.csv\n",
    "melb_path = \"D:\\\\Hacking\\\\Python\\\\AI_Learning\\\\Aprendizaje_Supervisado\\\\Melbourne_Housing\\\\melb_data.csv\"\n",
    "melb_data = pd.read_csv(melb_path)"
   ]
  },
  {
   "cell_type": "markdown",
   "id": "8e69ecca",
   "metadata": {},
   "source": [
    "--Marcando las caracteristicas de entrenamiento del modelo y la variable objetivo--"
   ]
  },
  {
   "cell_type": "code",
   "execution_count": null,
   "id": "f2c6dc65",
   "metadata": {},
   "outputs": [],
   "source": [
    "#Seleccionamos las características que vamos a utilizar (incluyendo categoricas y numéricas)\n",
    "melb_features = [\n",
    "    'Suburb', 'Rooms', 'Type', 'Method', 'SellerG', 'Distance',\n",
    "    'Postcode', 'Bedroom2', 'Bathroom', 'Car', 'Landsize',\n",
    "    'BuildingArea', 'YearBuilt', 'CouncilArea', 'Lattitude',\n",
    "    'Longtitude', 'Regionname', 'Propertycount'\n",
    "]\n",
    "#Selecionamos la variable objetivo que queremos predecir\n",
    "melb_target = 'Price'"
   ]
  },
  {
   "cell_type": "markdown",
   "id": "20d8db01",
   "metadata": {},
   "source": [
    "--Filtrado de datos--"
   ]
  },
  {
   "cell_type": "code",
   "execution_count": null,
   "id": "3a14240f",
   "metadata": {},
   "outputs": [],
   "source": [
    "#Eliminamos las filas con valores nulos en las características y la variable objetivo\n",
    "melb_data = melb_data[melb_features + [melb_target]].dropna()"
   ]
  },
  {
   "cell_type": "markdown",
   "id": "905e39bc",
   "metadata": {},
   "source": [
    "--Asignacion de caracteristicas a las variables de entrenamiento y testeo--"
   ]
  },
  {
   "cell_type": "code",
   "execution_count": null,
   "id": "ff0f4adc",
   "metadata": {},
   "outputs": [],
   "source": [
    "#One-hot encoding de las variables categóricas\n",
    "X = pd.get_dummies(melb_data[melb_features])\n",
    "y = melb_data[melb_target]"
   ]
  },
  {
   "cell_type": "code",
   "execution_count": null,
   "id": "5b8cefc2",
   "metadata": {},
   "outputs": [],
   "source": [
    "#Dividimos los datos en conjuntos de entrenamiento y prueba\n",
    "#test_size=0.2 significa que el 20% de los datos se utilizarán para pruebas\n",
    "#random_state=12 asegura que la división sea reproducible\n",
    "train_X, test_X, train_y, test_y = train_test_split(X, y, test_size=0.2, random_state=12)"
   ]
  },
  {
   "cell_type": "markdown",
   "id": "36d9d055",
   "metadata": {},
   "source": [
    "--Controlando el sobreajuste frente al subajuste--"
   ]
  },
  {
   "cell_type": "code",
   "execution_count": null,
   "id": "11444b85",
   "metadata": {},
   "outputs": [],
   "source": [
    "#Calcula el error absoluto medio (MAE) para un modelo de árbol de decisión con un número máximo de nodos hoja.\n",
    "def get_mae(max_leaf_nodes, train_X, train_y, test_X, test_y):\n",
    "    model = DecisionTreeRegressor(max_leaf_nodes=max_leaf_nodes, random_state=12)\n",
    "    model.fit(train_X, train_y)\n",
    "    dt_preds = model.predict(test_X)\n",
    "    mae = mean_absolute_error(test_y, dt_preds)\n",
    "    return mae"
   ]
  },
  {
   "cell_type": "code",
   "execution_count": null,
   "id": "347cc9fb",
   "metadata": {},
   "outputs": [],
   "source": [
    "for max_leaf_nodes in [5, 50, 500, 5000]:\n",
    "    my_mae = get_mae(max_leaf_nodes, train_X, train_y, test_X, test_y)\n",
    "    print(f\"Maximos nodos de hoja {max_leaf_nodes}: {my_mae:.2f}$\")"
   ]
  },
  {
   "cell_type": "markdown",
   "id": "0fc012e9",
   "metadata": {},
   "source": [
    "--Definiendo y entrenando el Modelo de Árbol de Decisión--"
   ]
  },
  {
   "cell_type": "code",
   "execution_count": null,
   "id": "949c6d75",
   "metadata": {},
   "outputs": [],
   "source": [
    "#Definimos el modelo de Árbol de Decisión que vamos a utilizar\n",
    "#El modelo DecisionTreeRegressor se utiliza para problemas de regresión\n",
    "#En este caso, predecimos el precio de las casas\n",
    "#random_state=12 asegura que el modelo sea reproducible\n",
    "#Esto significa que cada vez que ejecutes el código, obtendrás los mismos resultados\n",
    "melb_dt_model = DecisionTreeRegressor(max_leaf_nodes=500, random_state=12)\n",
    "#Ajustamos el modelo a los datos de entrenamiento\n",
    "melb_dt_model.fit(train_X, train_y)\n",
    "#Realizamos predicciones con el modelo de Árbol de Decisión en el conjunto de prueba\n",
    "melb_dt_model_preds = melb_dt_model.predict(test_X)"
   ]
  },
  {
   "cell_type": "markdown",
   "id": "5b17da32",
   "metadata": {},
   "source": [
    "--Definiendo y entrenando el Modelo Random Forest--"
   ]
  },
  {
   "cell_type": "code",
   "execution_count": null,
   "id": "ce108747",
   "metadata": {},
   "outputs": [],
   "source": [
    "#Definimos el modelo de Random Forest que vamos a utilizar\n",
    "#El modelo RandomForestRegressor se utiliza para problemas de regresión\n",
    "#En este caso, predecimos el precio de las casas\n",
    "#Por defecto, Random Forest utiliza 100 árboles de decisión\n",
    "#random_state=12 asegura que el modelo sea reproducible\n",
    "melb_rf_model = RandomForestRegressor(random_state=12)\n",
    "#Ajustamos el modelo a los datos de entrenamiento\n",
    "melb_rf_model.fit(train_X, train_y)\n",
    "#Realizamos predicciones con el modelo de Random Forest en el conjunto de prueba\n",
    "melb_rf_model_preds = melb_rf_model.predict(test_X)"
   ]
  },
  {
   "cell_type": "markdown",
   "id": "da735e11",
   "metadata": {},
   "source": [
    "--Evaluación de los modelos (Métricas)--"
   ]
  },
  {
   "cell_type": "code",
   "execution_count": null,
   "id": "3460a8fd",
   "metadata": {},
   "outputs": [],
   "source": [
    "\n",
    "#Evaluación del modelo de Árbol de Decisión\n",
    "dt_mae = mean_absolute_error(test_y, melb_dt_model_preds)\n",
    "dt_mse = mean_squared_error(test_y, melb_dt_model_preds)\n",
    "dt_rmse = np.sqrt(dt_mse)\n",
    "dt_r2 = r2_score(test_y, melb_dt_model_preds)\n",
    "dt_mape = mean_absolute_percentage_error(test_y, melb_dt_model_preds)\n",
    "dt_evs = explained_variance_score(test_y, melb_dt_model_preds)\n",
    "\n",
    "#Evaluación del modelo de Random Forest\n",
    "rf_mae = mean_absolute_error(test_y, melb_rf_model_preds)\n",
    "rf_mse = mean_squared_error(test_y, melb_rf_model_preds)\n",
    "rf_rmse = np.sqrt(rf_mse)\n",
    "rf_r2 = r2_score(test_y, melb_rf_model_preds)\n",
    "rf_mape = mean_absolute_percentage_error(test_y, melb_rf_model_preds)\n",
    "rf_evs = explained_variance_score(test_y, melb_rf_model_preds)"
   ]
  },
  {
   "cell_type": "code",
   "execution_count": null,
   "id": "90a0b006",
   "metadata": {},
   "outputs": [],
   "source": [
    "#Mostrado los resultados de la evaluación del modelo de Árbol de Decisión\n",
    "print(\"Resultados del modelo de Árbol de Decisión:\")\n",
    "print(f\"MAE (Error promedio en dólares): {dt_mae:.2f}$\")\n",
    "#print(f\"MSE (Mean Squared Error): {dt_mse:.2f}\")\n",
    "print(f\"RMSE (Root Mean Squared Error): {dt_rmse:.2f}\")\n",
    "print(f\"R2 (Variabilidad del precio): {dt_r2:.4f}\")\n",
    "print(f\"MAPE (Porcentaje de error): {dt_mape:.2f}%\")\n",
    "#print(f\"EVS (Explained Variance Score): {dt_evs:.4f}\")\n",
    "\n",
    "#Mostrado los resultados de la evaluación del modelo de Random Forest\n",
    "print(\"\\nResultados del modelo de Random Forest:\")\n",
    "print(f\"MAE (Error promedio en dólares): {rf_mae:.2f}$\")\n",
    "#print(f\"MSE (Mean Squared Error): {rf_mse:.2f}\")\n",
    "print(f\"RMSE (Root Mean Squared Error): {rf_rmse:.2f}\")\n",
    "print(f\"R2 (Variabilidad del precio): {rf_r2:.4f}\")\n",
    "print(f\"MAPE (Porcentaje de error): {rf_mape:.2f}%\")\n",
    "#print(f\"EVS (Explained Variance Score): {rf_evs:.4f}\")"
   ]
  },
  {
   "cell_type": "markdown",
   "id": "d8bbd4e1",
   "metadata": {},
   "source": [
    "--Resumen de Métricas importantes en los dos modelos--"
   ]
  },
  {
   "cell_type": "code",
   "execution_count": null,
   "id": "a694aab1",
   "metadata": {},
   "outputs": [],
   "source": [
    "#Mostrando un resumen de las métricas de ambos modelos\n",
    "results = pd.DataFrame({\n",
    "    'Modelo': ['Árbol de Decisión', 'Random Forest'],\n",
    "    'MAE ($)': [dt_mae, rf_mae],\n",
    "    'RMSE': [dt_rmse, rf_rmse],\n",
    "    'R²': [dt_r2, rf_r2],\n",
    "    'MAPE (%)': [dt_mape * 100, rf_mape * 100]\n",
    "})\n",
    "\n",
    "print(\"\\nResumen de métricas:\")\n",
    "print(results.to_string(index=False))"
   ]
  },
  {
   "cell_type": "markdown",
   "id": "40a14b84",
   "metadata": {},
   "source": [
    "--Analizando que variables han sido más importantes--"
   ]
  },
  {
   "cell_type": "code",
   "execution_count": null,
   "id": "db9364cf",
   "metadata": {},
   "outputs": [],
   "source": [
    "#Función para representar gráficamente la importancia de las características\n",
    "def plot_feature_importance(model, train_columns, top_n=20, title=\"Importancia de características\"):\n",
    "    \n",
    "    #Obtener la importancia de las características del modelo\n",
    "    importances = model.feature_importances_\n",
    "    \n",
    "    #Agrupar las columnas categoricas codificadas por su categoría original\n",
    "    grouped_features = [col.split('_')[0] for col in train_columns]\n",
    "    \n",
    "    #Crear un DataFrame con las características y su importancia\n",
    "    feature_df = pd.DataFrame({'Feature': grouped_features, 'Importance': importances})\n",
    "    \n",
    "    #Ordenar y seleccionar las características más importantes\n",
    "    top_grouped = feature_df.groupby('Feature').sum().sort_values(by='Importance', ascending=False).head(top_n)\n",
    "\n",
    "    #Representar gráficamente la importancia de las características\n",
    "    plt.figure(figsize=(10, 8))\n",
    "    plt.barh(top_grouped.index[::-1], top_grouped['Importance'][::-1], align='center', color='skyblue')\n",
    "    plt.title(title)\n",
    "    plt.xlabel(\"Importancia\")\n",
    "    plt.tight_layout()\n",
    "    plt.show()\n",
    "\n",
    "#Usando la función para mostrar la importancia de las características de los modelos entrenados\n",
    "plot_feature_importance(melb_dt_model, train_X.columns, title=\"Importancia de las características - Árbol de Decisión\")\n",
    "plot_feature_importance(melb_rf_model, train_X.columns, title=\"Importancia de las características - Random Forest\")\n"
   ]
  },
  {
   "cell_type": "markdown",
   "id": "9dc2a6de",
   "metadata": {},
   "source": [
    "--Guardando los modelos entrenados--"
   ]
  },
  {
   "cell_type": "code",
   "execution_count": null,
   "id": "5ce2b954",
   "metadata": {},
   "outputs": [],
   "source": [
    "#Guardamos los modelos entrenados\n",
    "joblib.dump(melb_dt_model, 'melb_dt_model.pkl')\n",
    "joblib.dump(melb_rf_model, 'melb_rf_model.pkl')"
   ]
  },
  {
   "cell_type": "markdown",
   "id": "c0c2fae1",
   "metadata": {},
   "source": [
    "--Cargando los modelos entrenados--"
   ]
  },
  {
   "cell_type": "code",
   "execution_count": null,
   "id": "c4a3e99b",
   "metadata": {},
   "outputs": [],
   "source": [
    "#Cargamos los modelos entrenados\n",
    "melb_dt_model_loaded = joblib.load('melb_dt_model.pkl')\n",
    "melb_rf_model_loaded = joblib.load('melb_rf_model.pkl')"
   ]
  },
  {
   "cell_type": "markdown",
   "id": "bf36b5c0",
   "metadata": {},
   "source": [
    "--Haciendo nuevas predicciones para ver el correcto funcionamiento del modelo--"
   ]
  },
  {
   "cell_type": "code",
   "execution_count": null,
   "id": "7aa508a4",
   "metadata": {},
   "outputs": [],
   "source": [
    "#Definimos una función para crear un DataFrame con las características de un nuevo inmueble\n",
    "def new_data(suburb, rooms, type,\n",
    "            method, sellerG, distance, \n",
    "            postcode, bedroom2, bathroom, \n",
    "            car, landsize, buildingArea, \n",
    "            yearBuilt, councilArea, lattitude, \n",
    "            longtitude, regionname, propertycount):\n",
    "    \n",
    "    #Creamos un DataFrame con los datos del nuevo inmueble\n",
    "    #Nos aseguramos de que las columnas coincidan con las del modelo\n",
    "    df = pd.DataFrame({\n",
    "        'Suburb': [suburb],\n",
    "        'Rooms': [rooms],\n",
    "        'Type': [type],\n",
    "        'Method': [method],\n",
    "        'SellerG': [sellerG],\n",
    "        'Distance': [distance],\n",
    "        'Postcode': [postcode],\n",
    "        'Bedroom2': [bedroom2],\n",
    "        'Bathroom': [bathroom],\n",
    "        'Car': [car],\n",
    "        'Landsize': [landsize],\n",
    "        'BuildingArea': [buildingArea],\n",
    "        'YearBuilt': [yearBuilt],\n",
    "        'CouncilArea': [councilArea],\n",
    "        'Lattitude': [lattitude],\n",
    "        'Longtitude': [longtitude],\n",
    "        'Regionname': [regionname],\n",
    "        'Propertycount': [propertycount]\n",
    "    })\n",
    "    \n",
    "    #Realizamos one-hot encoding de las variables categóricas\n",
    "    df_encoded = pd.get_dummies(df)\n",
    "    #Alineamos las columnas de los nuevos datos con las del modelo\n",
    "    df_encoded = df_encoded.reindex(columns=train_X.columns, fill_value=0)\n",
    "    #Devolvemos el DataFrame codificado\n",
    "    return df_encoded"
   ]
  },
  {
   "cell_type": "markdown",
   "id": "ae565389",
   "metadata": {},
   "source": [
    "--Añadiendo un nuevo inmueble--"
   ]
  },
  {
   "cell_type": "code",
   "execution_count": null,
   "id": "66f764ee",
   "metadata": {},
   "outputs": [],
   "source": [
    "#Creamos un nuevo DataFrame con los datos de un inmueble específico\n",
    "new_data_encoded = new_data(\n",
    "    suburb='Richmond',\n",
    "    rooms=2,\n",
    "    type='h',\n",
    "    method='S',\n",
    "    sellerG='Biggin & Scott',\n",
    "    distance=3.5,\n",
    "    postcode=3121,\n",
    "    bedroom2=2,\n",
    "    bathroom=1,\n",
    "    car=1,\n",
    "    landsize=150,\n",
    "    buildingArea=100,\n",
    "    yearBuilt=2000,\n",
    "    councilArea='Yarra',\n",
    "    lattitude=-37.8000,\n",
    "    longtitude=144.9900,\n",
    "    regionname='Inner East',\n",
    "    propertycount=5000,\n",
    ")"
   ]
  },
  {
   "cell_type": "markdown",
   "id": "1b553336",
   "metadata": {},
   "source": [
    "--Realizando la prediccion del precio estimado sobre los dos modelos--"
   ]
  },
  {
   "cell_type": "code",
   "execution_count": null,
   "id": "6c6921bc",
   "metadata": {},
   "outputs": [],
   "source": [
    "dt_prediction = melb_dt_model_loaded.predict(new_data_encoded)\n",
    "rf_prediction = melb_rf_model_loaded.predict(new_data_encoded)"
   ]
  },
  {
   "cell_type": "markdown",
   "id": "42b592f1",
   "metadata": {},
   "source": [
    "--Mostrando el resultado sobre el precio estimado en los dos modelos--"
   ]
  },
  {
   "cell_type": "code",
   "execution_count": null,
   "id": "7a75e256",
   "metadata": {},
   "outputs": [],
   "source": [
    "#Mostramos el resultado de la predicción del precio\n",
    "print(f\"Predicción del precio estimado con el modelo de Árbol de Decisión: {dt_prediction[0]:.2f}$\")\n",
    "print(f\"Predicción del precio estimado con el modelo de Random Forest: {rf_prediction[0]:.2f}$\")"
   ]
  }
 ],
 "metadata": {
  "kernelspec": {
   "display_name": "Python 3",
   "language": "python",
   "name": "python3"
  },
  "language_info": {
   "codemirror_mode": {
    "name": "ipython",
    "version": 3
   },
   "file_extension": ".py",
   "mimetype": "text/x-python",
   "name": "python",
   "nbconvert_exporter": "python",
   "pygments_lexer": "ipython3",
   "version": "3.13.5"
  }
 },
 "nbformat": 4,
 "nbformat_minor": 5
}
