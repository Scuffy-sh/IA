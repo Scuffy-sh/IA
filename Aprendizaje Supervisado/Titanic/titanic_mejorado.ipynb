{
 "cells": [
  {
   "cell_type": "markdown",
   "id": "3be43e0f",
   "metadata": {},
   "source": [
    "--Importación de librerias--"
   ]
  },
  {
   "cell_type": "code",
   "execution_count": 3,
   "id": "1976bd7d",
   "metadata": {},
   "outputs": [],
   "source": [
    "#Importamos las librerías necesarias\n",
    "import pandas as pd\n",
    "from sklearn.tree import DecisionTreeClassifier\n",
    "from sklearn.ensemble import RandomForestClassifier\n",
    "from sklearn.model_selection import train_test_split\n",
    "from sklearn.metrics import accuracy_score"
   ]
  },
  {
   "cell_type": "markdown",
   "id": "11bd1dac",
   "metadata": {},
   "source": [
    "--Definiendo la ruta y asignando el dataset--"
   ]
  },
  {
   "cell_type": "code",
   "execution_count": 16,
   "id": "ef0db964",
   "metadata": {},
   "outputs": [],
   "source": [
    "#Cargamos el dataset de Titanic\n",
    "#URL del dataset de Titanic: https://www.kaggle.com/c/titanic/data\n",
    "titanic_path = 'D:\\\\Hacking\\\\Python\\\\AI_Learning\\\\Aprendizaje_Supervisado\\\\Titanic\\\\titanic.csv'\n",
    "titanic_data = pd.read_csv(titanic_path)"
   ]
  },
  {
   "cell_type": "markdown",
   "id": "06c93c9c",
   "metadata": {},
   "source": [
    "--Marcando las caracteristicas de entrenamiento del modelo y la variable objetivo--"
   ]
  },
  {
   "cell_type": "code",
   "execution_count": 17,
   "id": "8550594f",
   "metadata": {},
   "outputs": [],
   "source": [
    "#Seleccionamos las caracteristicas que vamos a utilizar (incluyendo categoricas y numericas)\n",
    "titanic_features = ['Pclass', 'Sex', 'Age', 'SibSp', 'Parch', 'Fare', 'Embarked']\n",
    "#Seleccionamos la variable objetivo que vamos a predecir\n",
    "titanic_target = 'Survived'"
   ]
  },
  {
   "cell_type": "markdown",
   "id": "ebb7cf34",
   "metadata": {},
   "source": [
    "--Filtrado de datos--"
   ]
  },
  {
   "cell_type": "code",
   "execution_count": 18,
   "id": "edccbe46",
   "metadata": {},
   "outputs": [],
   "source": [
    "#Eliminamos filas con valores nulos en las caracteristicas y la variable objetivo\n",
    "titanic_data = titanic_data[titanic_features + [titanic_target]].dropna()"
   ]
  },
  {
   "cell_type": "markdown",
   "id": "837fcb67",
   "metadata": {},
   "source": [
    "--Asignacion de caracteristicas a las variables de entrenamiento y testeo--"
   ]
  },
  {
   "cell_type": "code",
   "execution_count": 19,
   "id": "aa903c43",
   "metadata": {},
   "outputs": [],
   "source": [
    "#One-hot encoding de las caracteristicas categoricas\n",
    "X = pd.get_dummies(titanic_data[titanic_features])\n",
    "y = titanic_data[titanic_target]"
   ]
  },
  {
   "cell_type": "code",
   "execution_count": 20,
   "id": "16e85bb9",
   "metadata": {},
   "outputs": [],
   "source": [
    "#Dividimos los datos en dos conjuntos: entrenamiento y prueba\n",
    "#test_size=0.2 significa que el 20% de los datos se utilizaran para probar el modelo\n",
    "#random_state=42 asegura que la division sea reproducible\n",
    "train_X, test_X, train_y, test_y = train_test_split(X, y, test_size=0.2, random_state=12)"
   ]
  },
  {
   "cell_type": "markdown",
   "id": "cec5bd40",
   "metadata": {},
   "source": [
    "--Definiendo y entrenando el Modelo de Árbol de Decisión--"
   ]
  },
  {
   "cell_type": "code",
   "execution_count": 7,
   "id": "a4ad5505",
   "metadata": {},
   "outputs": [],
   "source": [
    "#Defimos el modelo de arbol de decision que vamos a utilizar\n",
    "#El modelo DecisionTreeClassifier es utilizado para problemas de clasificacion\n",
    "#En este caso, vamos a predecir si un pasajero sobrevivio o no al\n",
    "#Añadimos el random_state para que el modelo no cambie en cada ejecucion\n",
    "#Esto es importante para que los resultados sean reproducibles\n",
    "titanic_dt_model = DecisionTreeClassifier(random_state=12)\n",
    "#Ajustamos el modelo a los datos\n",
    "titanic_dt_model.fit(train_X, train_y)\n",
    "#Generamos una prediccion de los datos con el modelo\n",
    "titanic_dt_preds = titanic_dt_model.predict(test_X)\n"
   ]
  },
  {
   "cell_type": "markdown",
   "id": "60eef867",
   "metadata": {},
   "source": [
    "--Evaluación del modelo--"
   ]
  },
  {
   "cell_type": "code",
   "execution_count": 8,
   "id": "1eaff145",
   "metadata": {},
   "outputs": [
    {
     "name": "stdout",
     "output_type": "stream",
     "text": [
      "Precisión del Árbol de Decisión: 1.0000\n"
     ]
    }
   ],
   "source": [
    "#Calculamos la precision del modelo\n",
    "titanic_dt_accuracy = accuracy_score(test_y, titanic_dt_preds)\n",
    "print(f\"Precisión del Árbol de Decisión: {titanic_dt_accuracy:.4f}\")"
   ]
  },
  {
   "cell_type": "markdown",
   "id": "a55a5482",
   "metadata": {},
   "source": [
    "--Definiendo y entrenando el Modelo Random Forest--"
   ]
  },
  {
   "cell_type": "code",
   "execution_count": 9,
   "id": "8dd124b2",
   "metadata": {},
   "outputs": [],
   "source": [
    "#Definimos el modelo de Random Forest que vamos a utilizar\n",
    "#Numero de arboles en el bosque por defecto es 100\n",
    "#En este caso, vamos a predecir si un pasajero sobrevivio o no al\n",
    "#Añadimos el random_state para que el modelo no cambie en cada ejecucion\n",
    "#Esto es importante para que los resultados sean reproducibles\n",
    "titanic_rf_model = RandomForestClassifier(random_state=12)\n",
    "#Ajustamos el modelo a los datos\n",
    "titanic_rf_model.fit(train_X, train_y)\n",
    "#Generamos una prediccion de los datos con el modelo\n",
    "titanic_rf_preds = titanic_rf_model.predict(test_X)\n"
   ]
  },
  {
   "cell_type": "markdown",
   "id": "2f84c446",
   "metadata": {},
   "source": [
    "--Evaluación del modelo--"
   ]
  },
  {
   "cell_type": "code",
   "execution_count": 10,
   "id": "dcf67caf",
   "metadata": {},
   "outputs": [
    {
     "name": "stdout",
     "output_type": "stream",
     "text": [
      "Precisión del Random Forest: 1.0000\n"
     ]
    }
   ],
   "source": [
    "#Calculamos la precision del modelo\n",
    "titanic_rf_accuracy = accuracy_score(test_y, titanic_rf_preds)\n",
    "print(f\"Precisión del Random Forest: {titanic_rf_accuracy:.4f}\")"
   ]
  },
  {
   "cell_type": "markdown",
   "id": "bcc5ae3c",
   "metadata": {},
   "source": [
    "--Analizando que variables han sido más importantes--"
   ]
  },
  {
   "cell_type": "code",
   "execution_count": 11,
   "id": "2154960a",
   "metadata": {},
   "outputs": [
    {
     "data": {
      "image/png": "[encoded data removed]",
      "text/plain": [
       "<Figure size 640x480 with 1 Axes>"
      ]
     },
     "metadata": {},
     "output_type": "display_data"
    }
   ],
   "source": [
    "#Librería para representar gráficamente la importancia de las características\n",
    "import matplotlib.pyplot as plt\n",
    "\n",
    "#Visualizamos la importancia de las características en el modelo de Arbol de Decisión\n",
    "#feature_importances_ devuelve la importancia de cada característica\n",
    "#feature_names son los nombres de las características utilizadas en el modelo\n",
    "importances = titanic_dt_model.feature_importances_\n",
    "feature_names = train_X.columns\n",
    "\n",
    "#Mostramos la importancia de las características en un gráfico de barras\n",
    "plt.barh(feature_names, importances)\n",
    "plt.xlabel('Importancia')\n",
    "plt.title('Importancia de las Características en el Modelo Arbol de Decisión')\n",
    "plt.show()"
   ]
  },
  {
   "cell_type": "code",
   "execution_count": 12,
   "id": "20ea2bef",
   "metadata": {},
   "outputs": [
    {
     "data": {
      "image/png": "[encoded data removed]",
      "text/plain": [
       "<Figure size 640x480 with 1 Axes>"
      ]
     },
     "metadata": {},
     "output_type": "display_data"
    }
   ],
   "source": [
    "#Librería para representar gráficamente la importancia de las características\n",
    "import matplotlib.pyplot as plt\n",
    "\n",
    "#Visualizamos la importancia de las características en el modelo Random Forest\n",
    "#feature_importances_ devuelve la importancia de cada característica\n",
    "#feature_names son los nombres de las características utilizadas en el modelo\n",
    "importances = titanic_rf_model.feature_importances_\n",
    "feature_names = train_X.columns\n",
    "\n",
    "#Mostramos la importancia de las características en un gráfico de barras\n",
    "plt.barh(feature_names, importances)\n",
    "plt.xlabel('Importancia')\n",
    "plt.title('Importancia de las Características en el Modelo Random Forest')\n",
    "plt.show()"
   ]
  },
  {
   "cell_type": "markdown",
   "id": "4f2c3b75",
   "metadata": {},
   "source": [
    "--Guardando los modelos entrenados--"
   ]
  },
  {
   "cell_type": "code",
   "execution_count": 14,
   "id": "3350ab56",
   "metadata": {},
   "outputs": [
    {
     "data": {
      "text/plain": [
       "['titanic_rf_model.pkl']"
      ]
     },
     "execution_count": 14,
     "metadata": {},
     "output_type": "execute_result"
    }
   ],
   "source": [
    "import joblib\n",
    "#Guardamos los modelos ya entrenados\n",
    "joblib.dump(titanic_dt_model, 'titanic_dt_model.pkl')\n",
    "joblib.dump(titanic_rf_model, 'titanic_rf_model.pkl')"
   ]
  },
  {
   "cell_type": "markdown",
   "id": "06eb806b",
   "metadata": {},
   "source": [
    "--Cargando los modelos entrenados--"
   ]
  },
  {
   "cell_type": "code",
   "execution_count": 1,
   "id": "5537eb6f",
   "metadata": {},
   "outputs": [],
   "source": [
    "import joblib\n",
    "#Para cargar los modelos guardados y usarlos posteriormente\n",
    "titanic_dt_model_loaded = joblib.load('titanic_dt_model.pkl')\n",
    "titanic_rf_model_loaded = joblib.load('titanic_rf_model.pkl')"
   ]
  },
  {
   "cell_type": "markdown",
   "id": "b9230e58",
   "metadata": {},
   "source": [
    "--Haciendo nuevas predicciones para ver el correcto funcionamiento del modelo--"
   ]
  },
  {
   "cell_type": "code",
   "execution_count": 4,
   "id": "502c30cb",
   "metadata": {},
   "outputs": [],
   "source": [
    "#Creamos un nuevo pasajero para predecir su supervivencia\n",
    "new_passenger = pd.DataFrame([{\n",
    "    'Pclass': 3,\n",
    "    'Sex': 'male',\n",
    "    'Age': 22,\n",
    "    'SibSp': 1,\n",
    "    'Parch': 0,\n",
    "    'Fare': 7.25,\n",
    "    'Embarked': 'S'\n",
    "}])"
   ]
  },
  {
   "cell_type": "markdown",
   "id": "4245dffa",
   "metadata": {},
   "source": [
    "--Tratamiento de los datos del nuevo pasajero--"
   ]
  },
  {
   "cell_type": "code",
   "execution_count": 21,
   "id": "6b7603c7",
   "metadata": {},
   "outputs": [],
   "source": [
    "#Realizamos el one-hot encoding del nuevo pasajero\n",
    "new_passenger_encoded = pd.get_dummies(new_passenger)\n",
    "\n",
    "#Alineamos las columnas del nuevo pasajero con las del modelo\n",
    "new_passenger_encoded = new_passenger_encoded.reindex(columns=train_X.columns, fill_value=0)"
   ]
  },
  {
   "cell_type": "markdown",
   "id": "956d7c3f",
   "metadata": {},
   "source": [
    "--Realizando la prediccion de supervivencia sobre los dos modelos--"
   ]
  },
  {
   "cell_type": "code",
   "execution_count": 22,
   "id": "48c63c86",
   "metadata": {},
   "outputs": [],
   "source": [
    "#Realizamos la prediccion de supervivencia\n",
    "dt_prediction = titanic_dt_model_loaded.predict(new_passenger_encoded)\n",
    "rf_prediction = titanic_rf_model_loaded.predict(new_passenger_encoded)"
   ]
  },
  {
   "cell_type": "markdown",
   "id": "e4cbbe8b",
   "metadata": {},
   "source": [
    "--Mostrando el resultado sobre la supervivencia del nuevo pasajero en los dos modelos--"
   ]
  },
  {
   "cell_type": "code",
   "execution_count": 23,
   "id": "ed05135e",
   "metadata": {},
   "outputs": [
    {
     "name": "stdout",
     "output_type": "stream",
     "text": [
      "Sobrevive el pasajero (Árbol de Decisión): No\n",
      "Sobrevive el pasajero (Random Forest): No\n"
     ]
    }
   ],
   "source": [
    "#Mostramos la prediccion de supervivencia\n",
    "print(f\"Sobrevive el pasajero (Árbol de Decisión): {'Sí' if dt_prediction[0] == 1 else 'No'}\")\n",
    "print(f\"Sobrevive el pasajero (Random Forest): {'Sí' if rf_prediction[0] == 1 else 'No'}\")"
   ]
  },
  {
   "cell_type": "markdown",
   "id": "3a66a773",
   "metadata": {},
   "source": [
    "--Mejorando la entrada de nuevos pasajeros--"
   ]
  },
  {
   "cell_type": "code",
   "execution_count": null,
   "id": "0dbe17f4",
   "metadata": {},
   "outputs": [],
   "source": [
    "# Definimos una función para crear un nuevo pasajero con las características necesarias\n",
    "def new_passenger(pclass, sex, age, sibsp, parch, fare, embarked, columns):\n",
    "    \n",
    "    # Creamos un DataFrame con las características del nuevo pasajero\n",
    "    # Nos aseguramos que las columnas coincidan con las del modelo\n",
    "    df = pd.DataFrame([{\n",
    "        'Pclass': pclass,\n",
    "        'Sex': sex,\n",
    "        'Age': age,\n",
    "        'SibSp': sibsp,\n",
    "        'Parch': parch,\n",
    "        'Fare': fare,\n",
    "        'Embarked': embarked\n",
    "    }])\n",
    "    \n",
    "    # Realizamos el one-hot encoding de las características categóricas\n",
    "    df_encoded = pd.get_dummies(df)\n",
    "    # Alineamos las columnas del nuevo pasajero con las del modelo\n",
    "    # Esto asegura que todas las columnas necesarias estén presentes, incluso si algunas son 0\n",
    "    df_encoded = df_encoded.reindex(columns=columns, fill_value=0)\n",
    "    # Devolvemos el DataFrame codificado\n",
    "    return df_encoded"
   ]
  },
  {
   "cell_type": "markdown",
   "id": "5ffb41b4",
   "metadata": {},
   "source": [
    "--Añadiendo nuevo pasajero--"
   ]
  },
  {
   "cell_type": "code",
   "execution_count": 12,
   "id": "3b51a5ad",
   "metadata": {},
   "outputs": [],
   "source": [
    "new_passenger_encoded = new_passenger(pclass=3, sex='male', age=22, sibsp=1, parch=0, fare=7.25, embarked='S', columns=train_X.columns)"
   ]
  },
  {
   "cell_type": "markdown",
   "id": "9e43471f",
   "metadata": {},
   "source": [
    "--Realizando la prediccion de supervivencia sobre los dos modelos--"
   ]
  },
  {
   "cell_type": "code",
   "execution_count": 16,
   "id": "f1f49b8c",
   "metadata": {},
   "outputs": [],
   "source": [
    "dt_prediction = titanic_dt_model_loaded.predict(new_passenger_encoded)\n",
    "rf_prediction = titanic_rf_model_loaded.predict(new_passenger_encoded)"
   ]
  },
  {
   "cell_type": "markdown",
   "id": "30ca8dea",
   "metadata": {},
   "source": [
    "--Mostrando el resultado sobre la supervivencia del nuevo pasajero en los dos modelos--"
   ]
  },
  {
   "cell_type": "code",
   "execution_count": 18,
   "id": "a48da8fb",
   "metadata": {},
   "outputs": [
    {
     "name": "stdout",
     "output_type": "stream",
     "text": [
      "Sobrevive el pasajero (Árbol de Decisión): No\n",
      "Sobrevive el pasajero (Random Forest): No\n"
     ]
    }
   ],
   "source": [
    "#Mostramos la prediccion de supervivencia\n",
    "print(f\"Sobrevive el pasajero (Árbol de Decisión): {'Sí' if dt_prediction[0] == 1 else 'No'}\")\n",
    "print(f\"Sobrevive el pasajero (Random Forest): {'Sí' if rf_prediction[0] == 1 else 'No'}\")"
   ]
  }
 ],
 "metadata": {
  "kernelspec": {
   "display_name": "Python 3",
   "language": "python",
   "name": "python3"
  },
  "language_info": {
   "codemirror_mode": {
    "name": "ipython",
    "version": 3
   },
   "file_extension": ".py",
   "mimetype": "text/x-python",
   "name": "python",
   "nbconvert_exporter": "python",
   "pygments_lexer": "ipython3",
   "version": "3.13.5"
  }
 },
 "nbformat": 4,
 "nbformat_minor": 5
}
