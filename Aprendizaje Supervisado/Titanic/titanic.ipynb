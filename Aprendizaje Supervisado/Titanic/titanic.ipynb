{
 "cells": [
  {
   "cell_type": "markdown",
   "id": "8aecb604",
   "metadata": {},
   "source": [
    "--Importación de librerias--"
   ]
  },
  {
   "cell_type": "code",
   "execution_count": 12,
   "id": "899b74f7",
   "metadata": {},
   "outputs": [],
   "source": [
    "#Importamos las librerias necesarias para el analisis de datos y la creacion de modelos\n",
    "import pandas as pd\n",
    "from sklearn.tree import DecisionTreeClassifier\n",
    "from sklearn.ensemble import RandomForestClassifier\n",
    "from sklearn.model_selection import train_test_split\n",
    "from sklearn.metrics import accuracy_score"
   ]
  },
  {
   "cell_type": "markdown",
   "id": "c9483b66",
   "metadata": {},
   "source": [
    "--Definiendo la ruta y asignando el dataset--"
   ]
  },
  {
   "cell_type": "code",
   "execution_count": 13,
   "id": "5ea2ac20",
   "metadata": {},
   "outputs": [],
   "source": [
    "#Cargamos el dataset de Titanic\n",
    "#URL del dataset de Titanic: https://www.kaggle.com/c/titanic/data\n",
    "titanic_path = 'D:\\\\Hacking\\\\Python\\\\AI_Learning\\\\Aprendizaje_Supervisado\\\\Titanic\\\\titanic.csv'\n",
    "titanic_data = pd.read_csv(titanic_path)"
   ]
  },
  {
   "cell_type": "markdown",
   "id": "cae0ecfd",
   "metadata": {},
   "source": [
    "--Marcando las caracteristicas de entrenamiento del modelo y la variable objetivo--"
   ]
  },
  {
   "cell_type": "code",
   "execution_count": 14,
   "id": "2a8e8483",
   "metadata": {},
   "outputs": [],
   "source": [
    "#Seleccionamos las caracteristicas que vamos a utilizar para entrenar el modelo\n",
    "titanic_features = ['PassengerId', 'Pclass', 'Age', 'SibSp', 'Parch', 'Fare']\n",
    "#Seleccionamos la variable objetivo que vamos a predecir\n",
    "titanic_target = 'Survived'"
   ]
  },
  {
   "cell_type": "markdown",
   "id": "0378440d",
   "metadata": {},
   "source": [
    "--Filtrado de datos--"
   ]
  },
  {
   "cell_type": "code",
   "execution_count": 15,
   "id": "7a17400e",
   "metadata": {},
   "outputs": [],
   "source": [
    "#Eliminamos filas con valores nulos en las caracteristicas\n",
    "titanic_data = titanic_data.dropna(subset=titanic_features)"
   ]
  },
  {
   "cell_type": "markdown",
   "id": "c35d9b87",
   "metadata": {},
   "source": [
    "--Asignacion de caracteristicas a las variables de entrenamiento y testeo--"
   ]
  },
  {
   "cell_type": "code",
   "execution_count": 16,
   "id": "0c656863",
   "metadata": {},
   "outputs": [],
   "source": [
    "#Asignamos las caracteristicas y la variable objetivo a x e y respectivamente\n",
    "X = titanic_data[titanic_features]\n",
    "y = titanic_data[titanic_target]"
   ]
  },
  {
   "cell_type": "code",
   "execution_count": 17,
   "id": "2aad0be3",
   "metadata": {},
   "outputs": [],
   "source": [
    "#Dividimos los datos en dos conjuntos: entrenamiento y prueba\n",
    "#test_size=0.2 significa que el 20% de los datos se utilizaran para probar el modelo\n",
    "#random_state=1 asegura que la division sea reproducible\n",
    "train_X, test_X, train_y, test_y = train_test_split(X, y, test_size=0.2, random_state=12)"
   ]
  },
  {
   "cell_type": "markdown",
   "id": "0f07f563",
   "metadata": {},
   "source": [
    "--Definiendo y entrenando el Modelo de Arbol de Decisión--"
   ]
  },
  {
   "cell_type": "code",
   "execution_count": 18,
   "id": "95b1f137",
   "metadata": {},
   "outputs": [],
   "source": [
    "#Defimos el modelo de arbol de decision que vamos a utilizar\n",
    "#El modelo DecisionTreeClassifier es utilizado para problemas de clasificacion\n",
    "#En este caso, vamos a predecir si un pasajero sobrevivio o no al\n",
    "#Añadimos el random_state para que el modelo no cambie en cada ejecucion\n",
    "#Esto es importante para que los resultados sean reproducibles\n",
    "titanic_tree_model = DecisionTreeClassifier(random_state=12)\n",
    "#Ajustamos el modelo a los datos\n",
    "titanic_tree_model.fit(train_X, train_y)\n",
    "#Generamos una prediccion de los datos con el modelo\n",
    "titanic_dt_preds = titanic_tree_model.predict(test_X)"
   ]
  },
  {
   "cell_type": "markdown",
   "id": "7b37ce42",
   "metadata": {},
   "source": [
    "--Evaluación del modelo--"
   ]
  },
  {
   "cell_type": "code",
   "execution_count": 19,
   "id": "503ffc72",
   "metadata": {},
   "outputs": [
    {
     "name": "stdout",
     "output_type": "stream",
     "text": [
      "Precision del modelo de arbol de decision: 0.7015\n"
     ]
    }
   ],
   "source": [
    "#Evaluamos la precision del modelo del arbol de decision\n",
    "dt_accuracy = accuracy_score(test_y, titanic_dt_preds)\n",
    "print(f\"Precision del modelo de arbol de decision: {dt_accuracy:.4f}\")"
   ]
  },
  {
   "cell_type": "markdown",
   "id": "ccab3f3c",
   "metadata": {},
   "source": [
    "--Definiendo y entrenando el Modelo Random Forest--"
   ]
  },
  {
   "cell_type": "code",
   "execution_count": 20,
   "id": "626b26de",
   "metadata": {},
   "outputs": [],
   "source": [
    "#Definimos el modelo de Random Forest que vamos a utilizar\n",
    "#Numero de arboles en el bosque por defecto es 100\n",
    "#En este caso, vamos a predecir si un pasajero sobrevivio o no al\n",
    "#Añadimos el random_state para que el modelo no cambie en cada ejecucion\n",
    "#Esto es importante para que los resultados sean reproducibles\n",
    "titanic_forest_model = RandomForestClassifier(random_state=1)\n",
    "#Ajustamos el modelo a los datos\n",
    "titanic_forest_model.fit(train_X, train_y)\n",
    "#Generamos una prediccion de los datos con el modelo\n",
    "titanic_forest_preds = titanic_forest_model.predict(test_X)\n"
   ]
  },
  {
   "cell_type": "markdown",
   "id": "f4b80878",
   "metadata": {},
   "source": [
    "--Evaluación del modelo--"
   ]
  },
  {
   "cell_type": "code",
   "execution_count": 21,
   "id": "539aaf71",
   "metadata": {},
   "outputs": [
    {
     "name": "stdout",
     "output_type": "stream",
     "text": [
      "Precision del modelo de Random Forest: 0.6716\n"
     ]
    }
   ],
   "source": [
    "#Evaluamos la precision del modelo\n",
    "forest_accuracy = accuracy_score(test_y, titanic_forest_preds)\n",
    "print(f\"Precision del modelo de Random Forest: {forest_accuracy:.4f}\")"
   ]
  }
 ],
 "metadata": {
  "kernelspec": {
   "display_name": "Python 3",
   "language": "python",
   "name": "python3"
  },
  "language_info": {
   "codemirror_mode": {
    "name": "ipython",
    "version": 3
   },
   "file_extension": ".py",
   "mimetype": "text/x-python",
   "name": "python",
   "nbconvert_exporter": "python",
   "pygments_lexer": "ipython3",
   "version": "3.13.5"
  }
 },
 "nbformat": 4,
 "nbformat_minor": 5
}
